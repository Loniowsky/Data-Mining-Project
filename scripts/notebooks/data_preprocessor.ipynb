{
 "cells": [
  {
   "cell_type": "markdown",
   "metadata": {
    "collapsed": true,
    "pycharm": {
     "name": "#%% md\n"
    }
   },
   "source": [
    "### Constants and lambdas\n",
    "Variables and lambdas used through the whole preprocessing."
   ]
  },
  {
   "cell_type": "code",
   "execution_count": 1,
   "metadata": {
    "pycharm": {
     "name": "#%% \n",
     "is_executing": false
    }
   },
   "outputs": [],
   "source": [
    "columns_to_drop=[\"Platform\", \"Other_Sales\", \"Critic_Count\", \"User_Count\", \"Rating\", \"Developer\"]\n",
    "needed_samples_lambda = lambda x: round((30./x)+1)\n",
    "range_for_samples_lambda = lambda x: x*0.04 if x*0.04>0.01 else 0.01\n",
    "\n",
    "def standardize(column):\n",
    "    print(\"Max: {} Min: {}\".format(column.max(), column.min()))\n",
    "    stddev = column.std()\n",
    "    mean = column.mean()\n",
    "    return column.apply(lambda x: (x-mean)/stddev)"
   ]
  },
  {
   "cell_type": "markdown",
   "source": [
    "### Data loading and preprocessing\n",
    "Load data from excel file, drop unused columns, replace missing values indicators (like tbd) with NaNs,\n",
    "convert column types from object to numeric if necessary."
   ],
   "metadata": {
    "collapsed": false,
    "pycharm": {
     "name": "#%% md\n"
    }
   }
  },
  {
   "cell_type": "code",
   "execution_count": 14,
   "metadata": {
    "pycharm": {
     "name": "#%%\n",
     "is_executing": false
    }
   },
   "outputs": [
    {
     "name": "stdout",
     "text": [
      "                                               Name  Year_of_Release  \\\n",
      "9509                                     Wii Sports           2006.0   \n",
      "16560                             Super Mario Bros.           1985.0   \n",
      "6863                                 Mario Kart Wii           2008.0   \n",
      "5417                              Wii Sports Resort           2009.0   \n",
      "15725                      Pokemon Red/Pokemon Blue           1996.0   \n",
      "16491                                        Tetris           1989.0   \n",
      "9510                          New Super Mario Bros.           2006.0   \n",
      "9511                                       Wii Play           2006.0   \n",
      "5418                      New Super Mario Bros. Wii           2009.0   \n",
      "16574                                     Duck Hunt           1984.0   \n",
      "10527                                    Nintendogs           2005.0   \n",
      "10528                                 Mario Kart DS           2005.0   \n",
      "14716                   Pokemon Gold/Pokemon Silver           1999.0   \n",
      "8300                                        Wii Fit           2007.0   \n",
      "4154                             Kinect Adventures!           2010.0   \n",
      "5419                                   Wii Fit Plus           2009.0   \n",
      "1767                             Grand Theft Auto V           2013.0   \n",
      "11475                 Grand Theft Auto: San Andreas           2004.0   \n",
      "16475                             Super Mario World           1990.0   \n",
      "10529  Brain Age: Train Your Brain in Minutes a Day           2005.0   \n",
      "9512                  Pokemon Diamond/Pokemon Pearl           2006.0   \n",
      "16492                              Super Mario Land           1989.0   \n",
      "16508                           Super Mario Bros. 3           1988.0   \n",
      "1768                             Grand Theft Auto V           2013.0   \n",
      "13045                   Grand Theft Auto: Vice City           2002.0   \n",
      "13046                 Pokemon Ruby/Pokemon Sapphire           2002.0   \n",
      "10530   Brain Age 2: More Training in Minutes a Day           2005.0   \n",
      "4155                    Pokemon Black/Pokemon White           2010.0   \n",
      "13879                        Gran Turismo 3: A-Spec           2001.0   \n",
      "2999                 Call of Duty: Modern Warfare 3           2011.0   \n",
      "15055       Pokémon Yellow: Special Pikachu Edition           1998.0   \n",
      "576                       Call of Duty: Black Ops 3           2015.0   \n",
      "4156                        Call of Duty: Black Ops           2010.0   \n",
      "1769                            Pokemon X/Pokemon Y           2013.0   \n",
      "2318                     Call of Duty: Black Ops II           2012.0   \n",
      "2319                     Call of Duty: Black Ops II           2012.0   \n",
      "5420                 Call of Duty: Modern Warfare 2           2009.0   \n",
      "3000                 Call of Duty: Modern Warfare 3           2011.0   \n",
      "13880                          Grand Theft Auto III           2001.0   \n",
      "6864                        Super Smash Bros. Brawl           2008.0   \n",
      "3001                                   Mario Kart 7           2011.0   \n",
      "4157                        Call of Duty: Black Ops           2010.0   \n",
      "1183                             Grand Theft Auto V           2014.0   \n",
      "10531                   Animal Crossing: Wild World           2005.0   \n",
      "8301                                         Halo 3           2007.0   \n",
      "15726                                Super Mario 64           1996.0   \n",
      "5421           Pokemon HeartGold/Pokemon SoulSilver           2009.0   \n",
      "1184      Pokemon Omega Ruby/Pokemon Alpha Sapphire           2014.0   \n",
      "11476                                Gran Turismo 4           2004.0   \n",
      "8302                             Super Mario Galaxy           2007.0   \n",
      "\n",
      "              Genre                    Publisher  NA_Sales  EU_Sales  \\\n",
      "9509         Sports                     Nintendo     41.36     28.96   \n",
      "16560      Platform                     Nintendo     29.08      3.58   \n",
      "6863         Racing                     Nintendo     15.68     12.76   \n",
      "5417         Sports                     Nintendo     15.61     10.93   \n",
      "15725  Role-Playing                     Nintendo     11.27      8.89   \n",
      "16491        Puzzle                     Nintendo     23.20      2.26   \n",
      "9510       Platform                     Nintendo     11.28      9.14   \n",
      "9511           Misc                     Nintendo     13.96      9.18   \n",
      "5418       Platform                     Nintendo     14.44      6.94   \n",
      "16574       Shooter                     Nintendo     26.93      0.63   \n",
      "10527    Simulation                     Nintendo      9.05     10.95   \n",
      "10528        Racing                     Nintendo      9.71      7.47   \n",
      "14716  Role-Playing                     Nintendo      9.00      6.18   \n",
      "8300         Sports                     Nintendo      8.92      8.03   \n",
      "4154           Misc       Microsoft Game Studios     15.00      4.89   \n",
      "5419         Sports                     Nintendo      9.01      8.49   \n",
      "1767         Action         Take-Two Interactive      7.02      9.09   \n",
      "11475        Action         Take-Two Interactive      9.43      0.40   \n",
      "16475      Platform                     Nintendo     12.78      3.75   \n",
      "10529          Misc                     Nintendo      4.74      9.20   \n",
      "9512   Role-Playing                     Nintendo      6.38      4.46   \n",
      "16492      Platform                     Nintendo     10.83      2.71   \n",
      "16508      Platform                     Nintendo      9.54      3.44   \n",
      "1768         Action         Take-Two Interactive      9.66      5.14   \n",
      "13045        Action         Take-Two Interactive      8.41      5.49   \n",
      "13046  Role-Playing                     Nintendo      6.06      3.90   \n",
      "10530        Puzzle                     Nintendo      3.43      5.35   \n",
      "4155   Role-Playing                     Nintendo      5.51      3.17   \n",
      "13879        Racing  Sony Computer Entertainment      6.85      5.09   \n",
      "2999        Shooter                   Activision      9.04      4.24   \n",
      "15055  Role-Playing                     Nintendo      5.89      5.04   \n",
      "576         Shooter                   Activision      6.03      5.86   \n",
      "4156        Shooter                   Activision      9.70      3.68   \n",
      "1769   Role-Playing                     Nintendo      5.28      4.19   \n",
      "2318        Shooter                   Activision      4.99      5.73   \n",
      "2319        Shooter                   Activision      8.25      4.24   \n",
      "5420        Shooter                   Activision      8.52      3.59   \n",
      "3000        Shooter                   Activision      5.54      5.73   \n",
      "13880        Action         Take-Two Interactive      6.99      4.51   \n",
      "6864       Fighting                     Nintendo      6.62      2.55   \n",
      "3001         Racing                     Nintendo      5.03      4.02   \n",
      "4157        Shooter                   Activision      5.99      4.37   \n",
      "1183         Action         Take-Two Interactive      3.96      6.31   \n",
      "10531    Simulation                     Nintendo      2.50      3.45   \n",
      "8301        Shooter       Microsoft Game Studios      7.97      2.81   \n",
      "15726      Platform                     Nintendo      6.91      2.85   \n",
      "5421         Action                     Nintendo      4.34      2.71   \n",
      "1184   Role-Playing                     Nintendo      4.35      3.49   \n",
      "11476        Racing  Sony Computer Entertainment      3.01      0.01   \n",
      "8302       Platform                     Nintendo      6.06      3.35   \n",
      "\n",
      "       JP_Sales  Global_Sales  Critic_Score User_Score  \n",
      "9509       3.77         82.53          76.0          8  \n",
      "16560      6.81         40.24           NaN        NaN  \n",
      "6863       3.79         35.52          82.0        8.3  \n",
      "5417       3.28         32.77          80.0          8  \n",
      "15725     10.22         31.37           NaN        NaN  \n",
      "16491      4.22         30.26           NaN        NaN  \n",
      "9510       6.50         29.80          89.0        8.5  \n",
      "9511       2.93         28.92          58.0        6.6  \n",
      "5418       4.70         28.32          87.0        8.4  \n",
      "16574      0.28         28.31           NaN        NaN  \n",
      "10527      1.93         24.67          83.0        7.7  \n",
      "10528      4.13         23.21          91.0        8.6  \n",
      "14716      7.20         23.10           NaN        NaN  \n",
      "8300       3.60         22.70          80.0        7.7  \n",
      "4154       0.24         21.81          61.0        6.3  \n",
      "5419       2.53         21.79          80.0        7.4  \n",
      "1767       0.98         21.04          97.0        8.2  \n",
      "11475      0.41         20.81          95.0          9  \n",
      "16475      3.54         20.61          92.0        9.0  \n",
      "10529      4.16         20.15          77.0        7.9  \n",
      "9512       6.04         18.25          85.0        8.3  \n",
      "16492      4.18         18.14           NaN        NaN  \n",
      "16508      3.84         17.28           NaN        NaN  \n",
      "1768       0.06         16.27          97.0        8.1  \n",
      "13045      0.47         16.15          95.0        8.7  \n",
      "13046      5.38         15.85          82.0        8.6  \n",
      "10530      5.32         15.29          77.0        7.1  \n",
      "4155       5.65         15.14          87.0        7.6  \n",
      "13879      1.87         14.98          95.0        8.4  \n",
      "2999       0.13         14.73          88.0        3.4  \n",
      "15055      3.12         14.64           NaN        NaN  \n",
      "576        0.36         14.63          73.0         31  \n",
      "4156       0.11         14.61          87.0        6.3  \n",
      "1769       4.35         14.60          87.0        7.5  \n",
      "2318       0.65         13.79          83.0        5.3  \n",
      "2319       0.07         13.67          83.0        4.8  \n",
      "5420       0.08         13.47          94.0        6.3  \n",
      "3000       0.49         13.32          88.0        3.2  \n",
      "13880      0.30         13.10          97.0        8.5  \n",
      "6864       2.66         12.84          93.0        8.9  \n",
      "3001       2.69         12.66          85.0        8.2  \n",
      "4157       0.48         12.63          88.0        6.4  \n",
      "1183       0.38         12.61          97.0        8.3  \n",
      "10531      5.33         12.13          86.0        8.7  \n",
      "8301       0.13         12.12          94.0        7.8  \n",
      "15726      1.91         11.89          94.0         92  \n",
      "5421       3.96         11.77          87.0        9.1  \n",
      "1184       3.10         11.68          83.0        7.4  \n",
      "11476      1.10         11.66          89.0        8.5  \n",
      "8302       1.20         11.35          97.0        8.9  \n"
     ],
     "output_type": "stream"
    }
   ],
   "source": [
    "import pandas as pd\n",
    "import numpy as np\n",
    "\n",
    "data = pd.read_excel(\"../data/games_sales_2016_modified_v2.xlsx\")\n",
    "data = data.drop(columns=columns_to_drop)\n",
    "data = data.replace({'tbd': np.NaN})\n",
    "data[\"Critic_Score\"] = pd.to_numeric(data[\"Critic_Score\"])\n",
    "data[\"User_Score\"] = pd.to_numeric(data[\"User_Score\"])"
   ]
  },
  {
   "cell_type": "markdown",
   "source": [
    "### Handling missing values\n",
    "There are no missing values in EU_Sales, JP_Sales, NA_Sales and Global_Sales columns.\n",
    "Some columns should be filled manually, while others can be generated (for example some\n",
    "critic and user scores)."
   ],
   "metadata": {
    "collapsed": false,
    "pycharm": {
     "name": "#%% md\n"
    }
   }
  },
  {
   "cell_type": "markdown",
   "source": [
    "Remove entries without release date or without name"
   ],
   "metadata": {
    "collapsed": false
   }
  },
  {
   "cell_type": "code",
   "execution_count": 3,
   "outputs": [],
   "source": [
    "data = data.drop(data[data[\"Year_of_Release\"].isna()].index)\n",
    "data = data.drop(data[data[\"Name\"].isna()].index)"
   ],
   "metadata": {
    "collapsed": false,
    "pycharm": {
     "name": "#%% capture\n",
     "is_executing": false
    }
   }
  },
  {
   "cell_type": "markdown",
   "source": [
    "Entries without publisher will be filled manually"
   ],
   "metadata": {
    "collapsed": false,
    "pycharm": {
     "name": "#%% md\n"
    }
   }
  },
  {
   "cell_type": "code",
   "execution_count": 4,
   "outputs": [
    {
     "name": "stdout",
     "text": [
      "                                                    Name  Year_of_Release  \\\n",
      "483    Moshi, Kono Sekai ni Kami-sama ga Iru to suru ...           2016.0   \n",
      "530                                    Dance with Devils           2016.0   \n",
      "1182                                      World of Tanks           2014.0   \n",
      "3502                                        Stronghold 3           2011.0   \n",
      "4052                    Demolition Company: Gold Edition           2011.0   \n",
      "4131                              Driving Simulator 2011           2011.0   \n",
      "4823                              Farming Simulator 2011           2010.0   \n",
      "5237                                  UK Truck Simulator           2010.0   \n",
      "8295                                  Sonic the Hedgehog           2007.0   \n",
      "8410        Shrek / Shrek 2 2-in-1 Gameboy Advance Video           2007.0   \n",
      "10522                         wwe Smackdown vs. Raw 2006           2005.0   \n",
      "10626                                 Bentley's Hackpack           2005.0   \n",
      "10827  Cartoon Network Collection: Game Boy Advance V...           2005.0   \n",
      "11025  Cartoon Network Collection: Game Boy Advance V...           2005.0   \n",
      "11428  Nicktoons Collection: Game Boy Advance Video V...           2005.0   \n",
      "11461  Super Robot Monkey Team: Game Boy Advance Vide...           2005.0   \n",
      "11469                     Yu Yu Hakusho: Dark Tournament           2004.0   \n",
      "11636  Nicktoons Collection: Game Boy Advance Video V...           2004.0   \n",
      "11637  SpongeBob SquarePants: Game Boy Advance Video ...           2004.0   \n",
      "11672  SpongeBob SquarePants: Game Boy Advance Video ...           2004.0   \n",
      "11720  The Fairly Odd Parents: Game Boy Advance Video...           2004.0   \n",
      "11731  The Fairly Odd Parents: Game Boy Advance Video...           2004.0   \n",
      "11801           Sonic X: Game Boy Advance Video Volume 1           2004.0   \n",
      "11806  Dora the Explorer: Game Boy Advance Video Volu...           2004.0   \n",
      "11814  Cartoon Network Collection: Game Boy Advance V...           2004.0   \n",
      "11822     All Grown Up!: Game Boy Advance Video Volume 1           2004.0   \n",
      "11841  Nicktoons Collection: Game Boy Advance Video V...           2004.0   \n",
      "11858  SpongeBob SquarePants: Game Boy Advance Video ...           2004.0   \n",
      "11883                   Thomas the Tank Engine & Friends           2004.0   \n",
      "11899    Dragon Ball GT: Game Boy Advance Video Volume 1           2004.0   \n",
      "11901  Codename: Kids Next Door: Game Boy Advance Vid...           2004.0   \n",
      "11906  Teenage Mutant Ninja Turtles: Game Boy Advance...           2004.0   \n",
      "11926  Pokémon: Johto Photo Finish: Game Boy Advance ...           2004.0   \n",
      "11929  Strawberry Shortcake: Game Boy Advance Video V...           2004.0   \n",
      "11994                   Disney Channel Collection Vol. 1           2004.0   \n",
      "12051  Cartoon Network Collection: Game Boy Advance V...           2004.0   \n",
      "15054                                     Triple Play 99           1998.0   \n",
      "\n",
      "            Genre Publisher  NA_Sales  EU_Sales  JP_Sales  Global_Sales  \\\n",
      "483     Adventure       NaN      0.00      0.00      0.02          0.02   \n",
      "530        Action       NaN      0.00      0.00      0.01          0.01   \n",
      "1182      Shooter       NaN      0.00      0.03      0.00          0.03   \n",
      "3502     Strategy       NaN      0.06      0.10      0.00          0.16   \n",
      "4052   Simulation       NaN      0.00      0.02      0.00          0.02   \n",
      "4131       Racing       NaN      0.00      0.01      0.00          0.01   \n",
      "4823   Simulation       NaN      0.00      0.13      0.00          0.13   \n",
      "5237   Simulation       NaN      0.00      0.03      0.00          0.03   \n",
      "8295     Platform       NaN      0.00      0.48      0.00          0.48   \n",
      "8410         Misc       NaN      0.87      0.32      0.00          1.21   \n",
      "10522    Fighting       NaN      1.57      1.02      0.00          3.00   \n",
      "10626        Misc       NaN      0.67      0.25      0.00          0.93   \n",
      "10827        Misc       NaN      0.23      0.08      0.00          0.32   \n",
      "11025        Misc       NaN      0.11      0.04      0.00          0.15   \n",
      "11428        Misc       NaN      0.01      0.01      0.00          0.02   \n",
      "11461        Misc       NaN      0.01      0.00      0.00          0.01   \n",
      "11469    Fighting       NaN      0.10      0.08      0.00          0.21   \n",
      "11636        Misc       NaN      0.46      0.17      0.00          0.64   \n",
      "11637        Misc       NaN      0.46      0.17      0.00          0.64   \n",
      "11672        Misc       NaN      0.38      0.14      0.00          0.53   \n",
      "11720        Misc       NaN      0.31      0.11      0.00          0.43   \n",
      "11731        Misc       NaN      0.30      0.11      0.00          0.42   \n",
      "11801        Misc       NaN      0.19      0.07      0.00          0.27   \n",
      "11806        Misc       NaN      0.18      0.07      0.00          0.26   \n",
      "11814        Misc       NaN      0.18      0.07      0.00          0.25   \n",
      "11822        Misc       NaN      0.17      0.06      0.00          0.24   \n",
      "11841        Misc       NaN      0.16      0.06      0.00          0.22   \n",
      "11858        Misc       NaN      0.15      0.05      0.00          0.21   \n",
      "11883   Adventure       NaN      0.13      0.05      0.00          0.19   \n",
      "11899        Misc       NaN      0.12      0.05      0.00          0.17   \n",
      "11901        Misc       NaN      0.12      0.05      0.00          0.17   \n",
      "11906        Misc       NaN      0.12      0.04      0.00          0.17   \n",
      "11926        Misc       NaN      0.11      0.04      0.00          0.15   \n",
      "11929        Misc       NaN      0.11      0.04      0.00          0.15   \n",
      "11994        Misc       NaN      0.08      0.03      0.00          0.11   \n",
      "12051        Misc       NaN      0.06      0.02      0.00          0.08   \n",
      "15054      Sports       NaN      0.81      0.55      0.00          1.46   \n",
      "\n",
      "       Critic_Score  User_Score  \n",
      "483             NaN         NaN  \n",
      "530             NaN         NaN  \n",
      "1182            NaN         5.2  \n",
      "3502           47.0         3.0  \n",
      "4052            NaN         NaN  \n",
      "4131            NaN         NaN  \n",
      "4823            NaN         7.0  \n",
      "5237            NaN         NaN  \n",
      "8295           43.0         4.1  \n",
      "8410            NaN         NaN  \n",
      "10522           NaN         NaN  \n",
      "10626           NaN         NaN  \n",
      "10827           NaN         NaN  \n",
      "11025           NaN         NaN  \n",
      "11428           NaN         NaN  \n",
      "11461           NaN         NaN  \n",
      "11469          56.0         8.5  \n",
      "11636           NaN         NaN  \n",
      "11637           NaN         NaN  \n",
      "11672           NaN         NaN  \n",
      "11720           NaN         NaN  \n",
      "11731           NaN         NaN  \n",
      "11801           NaN         NaN  \n",
      "11806           NaN         NaN  \n",
      "11814           NaN         NaN  \n",
      "11822           NaN         NaN  \n",
      "11841           NaN         NaN  \n",
      "11858           NaN         NaN  \n",
      "11883           NaN         NaN  \n",
      "11899           NaN         NaN  \n",
      "11901           NaN         NaN  \n",
      "11906           NaN         NaN  \n",
      "11926           NaN         NaN  \n",
      "11929           NaN         NaN  \n",
      "11994           NaN         NaN  \n",
      "12051           NaN         NaN  \n",
      "15054           NaN         NaN  \n"
     ],
     "output_type": "stream"
    }
   ],
   "source": [
    "print(data[data[\"Publisher\"].isna()])"
   ],
   "metadata": {
    "collapsed": false,
    "pycharm": {
     "name": "#%%\n",
     "is_executing": false
    }
   }
  },
  {
   "cell_type": "markdown",
   "source": [
    "Generate missing Critic Score values."
   ],
   "metadata": {
    "collapsed": false
   }
  },
  {
   "cell_type": "code",
   "execution_count": 5,
   "outputs": [],
   "source": [
    "data_for_global_sales_in_range = data[(data[\"Global_Sales\"]<8) & (data[\"Global_Sales\"]>=0.2)]\n",
    "for index, values in data_for_global_sales_in_range[data_for_global_sales_in_range[\"Critic_Score\"].isna()].iterrows():\n",
    "    number_of_needed_samples = needed_samples_lambda(values[\"Global_Sales\"])\n",
    "    range_for_samples = range_for_samples_lambda(values[\"Global_Sales\"])\n",
    "    possible_samples = data.drop(data[data[\"Critic_Score\"].isna()].index)\n",
    "    possible_samples= possible_samples[(values[\"Global_Sales\"] - range_for_samples <= possible_samples[\"Global_Sales\"]) \n",
    "         & (values[\"Global_Sales\"] + range_for_samples >= possible_samples[\"Global_Sales\"])]\n",
    "    if len(possible_samples.index) > number_of_needed_samples:\n",
    "        randomized_critic_score = possible_samples.sample()[\"Critic_Score\"]\n",
    "        data.at[index, \"Critic_Score\"] = randomized_critic_score"
   ],
   "metadata": {
    "collapsed": false,
    "pycharm": {
     "name": "#%% capture\n",
     "is_executing": false
    }
   }
  },
  {
   "cell_type": "markdown",
   "source": [
    "Generate missing User Score values."
   ],
   "metadata": {
    "collapsed": false
   }
  },
  {
   "cell_type": "code",
   "execution_count": 6,
   "outputs": [],
   "source": [
    "data_for_global_sales_in_range = data[(data[\"Global_Sales\"]<8) & (data[\"Global_Sales\"]>=0.2)]\n",
    "for index, values in data_for_global_sales_in_range[data_for_global_sales_in_range[\"User_Score\"].isna()].iterrows():\n",
    "    number_of_needed_samples = needed_samples_lambda(values[\"Global_Sales\"])\n",
    "    range_for_samples = range_for_samples_lambda(values[\"Global_Sales\"])\n",
    "    possible_samples = data.drop(data[data[\"User_Score\"].isna()].index)\n",
    "    possible_samples= possible_samples[(values[\"Global_Sales\"] - range_for_samples <= possible_samples[\"Global_Sales\"]) \n",
    "         & (values[\"Global_Sales\"] + range_for_samples >= possible_samples[\"Global_Sales\"])]\n",
    "    if len(possible_samples.index) > number_of_needed_samples:\n",
    "        randomized_user_score = possible_samples.sample()[\"User_Score\"]\n",
    "        data.at[index, \"User_Score\"] = randomized_user_score"
   ],
   "metadata": {
    "collapsed": false,
    "pycharm": {
     "name": "#%% capture\n",
     "is_executing": false
    }
   }
  },
  {
   "cell_type": "markdown",
   "source": [
    "Remove games without Critic or User Score with global sales below 0.2m"
   ],
   "metadata": {
    "collapsed": false
   }
  },
  {
   "cell_type": "code",
   "execution_count": 7,
   "outputs": [],
   "source": [
    "data = data.drop(data[\n",
    "    (data[\"Critic_Score\"].isna() | data[\"User_Score\"].isna()) &\n",
    "    (data[\"Global_Sales\"] < 0.2)\n",
    "].index)"
   ],
   "metadata": {
    "collapsed": false,
    "pycharm": {
     "name": "#%%\n",
     "is_executing": false
    }
   }
  },
  {
   "cell_type": "markdown",
   "source": [
    "Normalization & Standardization"
   ],
   "metadata": {
    "collapsed": false,
    "pycharm": {
     "name": "#%% md\n",
     "is_executing": false
    }
   }
  },
  {
   "cell_type": "code",
   "execution_count": 8,
   "outputs": [
    {
     "name": "stdout",
     "text": [
      "Max: 82.53 Min: 0.01\n",
      "Max: 28.96 Min: 0.0\n",
      "Max: 10.22 Min: 0.0\n",
      "Max: 41.36 Min: 0.0\n",
      "                                Name  Year_of_Release         Genre  \\\n",
      "5404    The Eye of Judgment: Legends           2010.0      Strategy   \n",
      "13020                  Karnaaj Rally           2003.0        Racing   \n",
      "13019       Legacy of Kain: Defiance           2003.0        Action   \n",
      "13011   Aquaman: Battle for Atlantis           2003.0        Action   \n",
      "13008  Grooverider: Slot Car Thunder           2003.0        Racing   \n",
      "...                              ...              ...           ...   \n",
      "15725       Pokemon Red/Pokemon Blue           1996.0  Role-Playing   \n",
      "5417               Wii Sports Resort           2009.0        Sports   \n",
      "6863                  Mario Kart Wii           2008.0        Racing   \n",
      "16560              Super Mario Bros.           1985.0      Platform   \n",
      "9509                      Wii Sports           2006.0        Sports   \n",
      "\n",
      "                         Publisher   NA_Sales   EU_Sales   JP_Sales  \\\n",
      "5404   Sony Computer Entertainment  -0.401835  -0.361846  -0.254787   \n",
      "13020                       Jaleco  -0.391861  -0.361846  -0.280703   \n",
      "13019            Eidos Interactive  -0.401835  -0.345785  -0.280703   \n",
      "13011               TDK Mediactive  -0.391861  -0.361846  -0.280703   \n",
      "13008                       Encore  -0.391861  -0.361846  -0.280703   \n",
      "...                            ...        ...        ...        ...   \n",
      "15725                     Nintendo  10.838154  13.915586  26.205533   \n",
      "5417                      Nintendo  15.166597  17.191847   8.219772   \n",
      "6863                      Nintendo  15.236410  20.130845   9.541492   \n",
      "16560                     Nintendo  28.600727   5.387671  17.368149   \n",
      "9509                      Nintendo  40.848026  46.148212   9.489660   \n",
      "\n",
      "       Global_Sales  Critic_Score  User_Score  \n",
      "5404      -0.420295          0.69        0.79  \n",
      "13020     -0.420295          0.81        0.95  \n",
      "13019     -0.420295          0.70        0.87  \n",
      "13011     -0.420295          0.27        0.31  \n",
      "13008     -0.420295          0.45        0.73  \n",
      "...             ...           ...         ...  \n",
      "15725     16.047742           NaN         NaN  \n",
      "5417      16.782922          0.80        0.80  \n",
      "6863      18.227026          0.82        0.83  \n",
      "16560     20.705634           NaN         NaN  \n",
      "9509      42.913328          0.76        0.80  \n",
      "\n",
      "[10452 rows x 10 columns]\n"
     ],
     "output_type": "stream"
    }
   ],
   "source": [
    "data[\"Critic_Score\"] = data[\"Critic_Score\"] / 100.\n",
    "data[\"User_Score\"] = data[\"User_Score\"] / 10.\n",
    "\n",
    "data[\"Global_Sales\"] = standardize(data[\"Global_Sales\"])\n",
    "data[\"EU_Sales\"] = standardize(data[\"EU_Sales\"])\n",
    "data[\"JP_Sales\"] = standardize(data[\"JP_Sales\"])\n",
    "data[\"NA_Sales\"] = standardize(data[\"NA_Sales\"])"
   ],
   "metadata": {
    "collapsed": false,
    "pycharm": {
     "name": "#%%\n",
     "is_executing": false
    }
   }
  },
  {
   "cell_type": "markdown",
   "source": [
    "Save modified dataset to file"
   ],
   "metadata": {
    "collapsed": false
   }
  },
  {
   "cell_type": "code",
   "execution_count": 9,
   "outputs": [
    {
     "traceback": [
      "\u001b[1;31m---------------------------------------------------------------------------\u001b[0m",
      "\u001b[1;31mModuleNotFoundError\u001b[0m                       Traceback (most recent call last)",
      "\u001b[1;32m<ipython-input-9-6275b7021101>\u001b[0m in \u001b[0;36m<module>\u001b[1;34m\u001b[0m\n\u001b[1;32m----> 1\u001b[1;33m \u001b[0mdata\u001b[0m\u001b[1;33m.\u001b[0m\u001b[0mto_excel\u001b[0m\u001b[1;33m(\u001b[0m\u001b[1;34m\"../data/games_sales_2016_preprocessed.xlsx\"\u001b[0m\u001b[1;33m)\u001b[0m\u001b[1;33m\u001b[0m\u001b[1;33m\u001b[0m\u001b[0m\n\u001b[0m\u001b[0;32m      2\u001b[0m \u001b[1;33m\u001b[0m\u001b[0m\n",
      "\u001b[1;32m~\\.conda\\envs\\EksploracjaDanych\\lib\\site-packages\\pandas\\core\\generic.py\u001b[0m in \u001b[0;36mto_excel\u001b[1;34m(self, excel_writer, sheet_name, na_rep, float_format, columns, header, index, index_label, startrow, startcol, engine, merge_cells, encoding, inf_rep, verbose, freeze_panes)\u001b[0m\n\u001b[0;32m   2030\u001b[0m             \u001b[0mstartcol\u001b[0m\u001b[1;33m=\u001b[0m\u001b[0mstartcol\u001b[0m\u001b[1;33m,\u001b[0m\u001b[1;33m\u001b[0m\u001b[1;33m\u001b[0m\u001b[0m\n\u001b[0;32m   2031\u001b[0m             \u001b[0mfreeze_panes\u001b[0m\u001b[1;33m=\u001b[0m\u001b[0mfreeze_panes\u001b[0m\u001b[1;33m,\u001b[0m\u001b[1;33m\u001b[0m\u001b[1;33m\u001b[0m\u001b[0m\n\u001b[1;32m-> 2032\u001b[1;33m             \u001b[0mengine\u001b[0m\u001b[1;33m=\u001b[0m\u001b[0mengine\u001b[0m\u001b[1;33m,\u001b[0m\u001b[1;33m\u001b[0m\u001b[1;33m\u001b[0m\u001b[0m\n\u001b[0m\u001b[0;32m   2033\u001b[0m         )\n\u001b[0;32m   2034\u001b[0m \u001b[1;33m\u001b[0m\u001b[0m\n",
      "\u001b[1;32m~\\.conda\\envs\\EksploracjaDanych\\lib\\site-packages\\pandas\\io\\formats\\excel.py\u001b[0m in \u001b[0;36mwrite\u001b[1;34m(self, writer, sheet_name, startrow, startcol, freeze_panes, engine)\u001b[0m\n\u001b[0;32m    728\u001b[0m             \u001b[0mneed_save\u001b[0m \u001b[1;33m=\u001b[0m \u001b[1;32mFalse\u001b[0m\u001b[1;33m\u001b[0m\u001b[1;33m\u001b[0m\u001b[0m\n\u001b[0;32m    729\u001b[0m         \u001b[1;32melse\u001b[0m\u001b[1;33m:\u001b[0m\u001b[1;33m\u001b[0m\u001b[1;33m\u001b[0m\u001b[0m\n\u001b[1;32m--> 730\u001b[1;33m             \u001b[0mwriter\u001b[0m \u001b[1;33m=\u001b[0m \u001b[0mExcelWriter\u001b[0m\u001b[1;33m(\u001b[0m\u001b[0mstringify_path\u001b[0m\u001b[1;33m(\u001b[0m\u001b[0mwriter\u001b[0m\u001b[1;33m)\u001b[0m\u001b[1;33m,\u001b[0m \u001b[0mengine\u001b[0m\u001b[1;33m=\u001b[0m\u001b[0mengine\u001b[0m\u001b[1;33m)\u001b[0m\u001b[1;33m\u001b[0m\u001b[1;33m\u001b[0m\u001b[0m\n\u001b[0m\u001b[0;32m    731\u001b[0m             \u001b[0mneed_save\u001b[0m \u001b[1;33m=\u001b[0m \u001b[1;32mTrue\u001b[0m\u001b[1;33m\u001b[0m\u001b[1;33m\u001b[0m\u001b[0m\n\u001b[0;32m    732\u001b[0m \u001b[1;33m\u001b[0m\u001b[0m\n",
      "\u001b[1;32m~\\.conda\\envs\\EksploracjaDanych\\lib\\site-packages\\pandas\\io\\excel\\_openpyxl.py\u001b[0m in \u001b[0;36m__init__\u001b[1;34m(self, path, engine, mode, **engine_kwargs)\u001b[0m\n\u001b[0;32m     16\u001b[0m     \u001b[1;32mdef\u001b[0m \u001b[0m__init__\u001b[0m\u001b[1;33m(\u001b[0m\u001b[0mself\u001b[0m\u001b[1;33m,\u001b[0m \u001b[0mpath\u001b[0m\u001b[1;33m,\u001b[0m \u001b[0mengine\u001b[0m\u001b[1;33m=\u001b[0m\u001b[1;32mNone\u001b[0m\u001b[1;33m,\u001b[0m \u001b[0mmode\u001b[0m\u001b[1;33m=\u001b[0m\u001b[1;34m\"w\"\u001b[0m\u001b[1;33m,\u001b[0m \u001b[1;33m**\u001b[0m\u001b[0mengine_kwargs\u001b[0m\u001b[1;33m)\u001b[0m\u001b[1;33m:\u001b[0m\u001b[1;33m\u001b[0m\u001b[1;33m\u001b[0m\u001b[0m\n\u001b[0;32m     17\u001b[0m         \u001b[1;31m# Use the openpyxl module as the Excel writer.\u001b[0m\u001b[1;33m\u001b[0m\u001b[1;33m\u001b[0m\u001b[1;33m\u001b[0m\u001b[0m\n\u001b[1;32m---> 18\u001b[1;33m         \u001b[1;32mfrom\u001b[0m \u001b[0mopenpyxl\u001b[0m\u001b[1;33m.\u001b[0m\u001b[0mworkbook\u001b[0m \u001b[1;32mimport\u001b[0m \u001b[0mWorkbook\u001b[0m\u001b[1;33m\u001b[0m\u001b[1;33m\u001b[0m\u001b[0m\n\u001b[0m\u001b[0;32m     19\u001b[0m \u001b[1;33m\u001b[0m\u001b[0m\n\u001b[0;32m     20\u001b[0m         \u001b[0msuper\u001b[0m\u001b[1;33m(\u001b[0m\u001b[1;33m)\u001b[0m\u001b[1;33m.\u001b[0m\u001b[0m__init__\u001b[0m\u001b[1;33m(\u001b[0m\u001b[0mpath\u001b[0m\u001b[1;33m,\u001b[0m \u001b[0mmode\u001b[0m\u001b[1;33m=\u001b[0m\u001b[0mmode\u001b[0m\u001b[1;33m,\u001b[0m \u001b[1;33m**\u001b[0m\u001b[0mengine_kwargs\u001b[0m\u001b[1;33m)\u001b[0m\u001b[1;33m\u001b[0m\u001b[1;33m\u001b[0m\u001b[0m\n",
      "\u001b[1;31mModuleNotFoundError\u001b[0m: No module named 'openpyxl'"
     ],
     "ename": "ModuleNotFoundError",
     "evalue": "No module named 'openpyxl'",
     "output_type": "error"
    }
   ],
   "source": [
    "data.to_excel(\"../data/games_sales_2016_preprocessed.xlsx\")"
   ],
   "metadata": {
    "collapsed": false,
    "pycharm": {
     "name": "#%%\n",
     "is_executing": false
    }
   }
  },
  {
   "cell_type": "markdown",
   "source": [
    "#TODO\n",
    "\n",
    "- dodac lata dla brakujących release date z sales większę, bądź równe 0.5m - Arek\n",
    "- dodac publisherów brakujących - J\n",
    "- dodac Critic Score recznie dla gier powyzej 8 - J\n",
    "- dodac User Score recznie dla gier powyzej 8 - J\n",
    "- zapytac o standaryzacje\n",
    "- zapytac o uzupelnianie brakujących critic score/user score i czy brac pod uwage jeszcze rok"
   ],
   "metadata": {
    "collapsed": false,
    "pycharm": {
     "name": "#%% md\n"
    }
   }
  }
 ],
 "metadata": {
  "kernelspec": {
   "name": "python3",
   "language": "python",
   "display_name": "Python 3"
  },
  "language_info": {
   "codemirror_mode": {
    "name": "ipython",
    "version": 3
   },
   "file_extension": ".py",
   "mimetype": "text/x-python",
   "name": "python",
   "nbconvert_exporter": "python",
   "pygments_lexer": "ipython3",
   "version": "3.7.9"
  },
  "pycharm": {
   "stem_cell": {
    "cell_type": "raw",
    "source": [],
    "metadata": {
     "collapsed": false
    }
   }
  }
 },
 "nbformat": 4,
 "nbformat_minor": 1
}