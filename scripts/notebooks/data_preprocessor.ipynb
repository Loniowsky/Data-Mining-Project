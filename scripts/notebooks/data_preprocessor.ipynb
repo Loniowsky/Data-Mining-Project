{
 "cells": [
  {
   "cell_type": "code",
   "execution_count": 1,
   "metadata": {
    "pycharm": {
     "name": "#%%\n"
    }
   },
   "outputs": [],
   "source": [
    "from sklearn.impute import KNNImputer\n",
    "import pandas as pd\n",
    "import numpy as np\n",
    "from common.standardization import standardize, de_standardize"
   ]
  },
  {
   "cell_type": "markdown",
   "metadata": {
    "pycharm": {
     "name": "#%% md\n"
    }
   },
   "source": [
    "### Data loading and preprocessing\n",
    "Load data from excel file, drop unused columns, replace missing values indicators (like tbd) with NaNs,\n",
    "convert column types from object to numeric if necessary."
   ]
  },
  {
   "cell_type": "code",
   "execution_count": 2,
   "metadata": {
    "pycharm": {
     "name": "#%%\n"
    }
   },
   "outputs": [],
   "source": [
    "columns_to_drop=[\"Other_Sales\", \"Critic_Count\", \"User_Count\", \"Rating\", \"Developer\", \"Publisher\"]\n",
    "\n",
    "data = pd.read_excel(\"../data/games_sales_2016_modified.xlsx\", index_col=0)\n",
    "data = data.drop(columns=columns_to_drop)\n",
    "data = data.replace({'tbd': np.NaN})\n",
    "data[\"Critic_Score\"] = pd.to_numeric(data[\"Critic_Score\"])\n",
    "data[\"User_Score\"] = pd.to_numeric(data[\"User_Score\"])"
   ]
  },
  {
   "cell_type": "markdown",
   "metadata": {},
   "source": [
    "### Basic statistics before missing values handling\n",
    "Get basic statistics about the dataset before handling missing values:\n",
    " * total number of rows\n",
    " * number of missing values in each column\n",
    " * values like mean, max, min"
   ]
  },
  {
   "cell_type": "code",
   "execution_count": 3,
   "metadata": {
    "pycharm": {
     "name": "#%%\n"
    }
   },
   "outputs": [
    {
     "name": "stdout",
     "output_type": "stream",
     "text": [
      "Number of rows: 16710\n",
      "\n",
      "Number of NaNs in each column: \n",
      "Name                  2\n",
      "Platform              0\n",
      "Year_of_Release      74\n",
      "Genre                 2\n",
      "NA_Sales              0\n",
      "EU_Sales              0\n",
      "JP_Sales              0\n",
      "Global_Sales          0\n",
      "Critic_Score       8544\n",
      "User_Score         9085\n",
      "dtype: int64\n",
      "\n",
      "Detailed stats: \n",
      "        Global_Sales  User_Score  Critic_Score   EU_Sales   NA_Sales  \\\n",
      "max        82.530000    9.700000     99.000000  28.960000  41.360000   \n",
      "min         0.010000    0.000000     13.000000   0.000000   0.000000   \n",
      "std         1.548316    1.501310     13.951209   0.503408   0.813713   \n",
      "mean        0.533778    7.129456     69.022410   0.145100   0.263459   \n",
      "median      0.170000    7.500000     71.000000   0.020000   0.080000   \n",
      "\n",
      "         JP_Sales  Year_of_Release  \n",
      "max     10.220000      2016.000000  \n",
      "min      0.000000      1977.000000  \n",
      "std      0.308895         5.912285  \n",
      "mean     0.077609      2006.463092  \n",
      "median   0.000000      2007.000000  \n"
     ]
    }
   ],
   "source": [
    "print(\"Number of rows: {}\".format(data.shape[0]))\n",
    "print(\"\\nNumber of NaNs in each column: \\n{}\".format(data.isna().sum()))\n",
    "\n",
    "columns_to_get_stats_from = [\"Global_Sales\", \"User_Score\", \"Critic_Score\",\n",
    "                             \"EU_Sales\", \"NA_Sales\", \"JP_Sales\", \"Year_of_Release\"]\n",
    "stats_to_compute = [\"max\", \"min\", \"std\", \"mean\", \"median\"]\n",
    "columns_stats = data.agg({item: stats_to_compute for item in columns_to_get_stats_from})\n",
    "print(\"\\nDetailed stats: \\n{}\".format(columns_stats))"
   ]
  },
  {
   "cell_type": "markdown",
   "metadata": {},
   "source": [
    "### Handling missing values\n",
    "There are no missing values in EU_Sales, JP_Sales, NA_Sales and Global_Sales columns.\n",
    "Some columns should be filled manually, while others can be generated (for example some\n",
    "critic and user scores)."
   ]
  },
  {
   "cell_type": "markdown",
   "metadata": {},
   "source": [
    "Manual missing and strange values handling:\n",
    " * over 100 records with `Year_of_Release` have been filled (there are still 74 left, which will be discarded)\n",
    " * records with strange names like **Luminous Arc 2 (JP sales)** have been removed (at least 8)\n",
    " * **Brothers in Arms: Furious 4** record has been removed because this game has been cancelled\n",
    " * **Imagine: Makeup Artist** had `Year_of_Release` set to 2020 - changed to proper 2009\n",
    " * missing `Critic_Score` and `User_Score` for important games (like **Super Mario**) filled manually, using GameSpot data\n",
    " * missing values in `Published` column for important games filled manually, but this column has been discarded"
   ]
  },
  {
   "cell_type": "markdown",
   "metadata": {},
   "source": [
    "Remove entries without release date or without name"
   ]
  },
  {
   "cell_type": "code",
   "execution_count": 4,
   "metadata": {
    "pycharm": {
     "name": "#%% capture\n"
    }
   },
   "outputs": [],
   "source": [
    "data = data.drop(data[data[\"Year_of_Release\"].isna()].index)\n",
    "data = data.drop(data[data[\"Name\"].isna()].index)"
   ]
  },
  {
   "cell_type": "markdown",
   "metadata": {},
   "source": [
    "Remove games without Critic or User Score with global sales below 0.2m:\n",
    " * this is done because for small global sales there is a lot of missing data\n",
    " * filling it would probably have a negative impact on further analysis results"
   ]
  },
  {
   "cell_type": "code",
   "execution_count": 5,
   "metadata": {
    "pycharm": {
     "name": "#%%\n"
    }
   },
   "outputs": [],
   "source": [
    "data = data.drop(data[\n",
    "    (data[\"Critic_Score\"].isna() | data[\"User_Score\"].isna()) &\n",
    "    (data[\"Global_Sales\"] < 0.2)\n",
    "].index)"
   ]
  },
  {
   "cell_type": "markdown",
   "metadata": {},
   "source": [
    "Standardize data before proceeding further into missing values generation"
   ]
  },
  {
   "cell_type": "code",
   "execution_count": 6,
   "metadata": {
    "pycharm": {
     "name": "#%%\n"
    }
   },
   "outputs": [
    {
     "name": "stdout",
     "output_type": "stream",
     "text": [
      "                                            Name Platform  Year_of_Release  \\\n",
      "5140                                  Wii Sports      Wii        -0.078327   \n",
      "16561                          Super Mario Bros.      NES        -3.630253   \n",
      "5899                              Mario Kart Wii      Wii         0.259952   \n",
      "5100                           Wii Sports Resort      Wii         0.429091   \n",
      "15741                   Pokemon Red/Pokemon Blue       GB        -1.769720   \n",
      "...                                          ...      ...              ...   \n",
      "7553   Greg Hastings' Tournament Paintball Max'd      PS2        -0.078327   \n",
      "7569                                     Deus Ex       PC        -1.093163   \n",
      "7601                   Monster Rancher Advance 2      GBA        -0.754884   \n",
      "7605                               Karnaaj Rally      GBA        -0.585745   \n",
      "7606                 Wade Hixton's Counter Punch      GBA        -0.416606   \n",
      "\n",
      "              Genre   NA_Sales   EU_Sales   JP_Sales  Global_Sales  \\\n",
      "5140         Sports  50.504944  57.239623  11.953560     52.958316   \n",
      "16561      Platform  35.413632   6.823289  21.795100     25.644775   \n",
      "5899         Racing  18.945914  25.058984  12.018307     22.596302   \n",
      "5100         Sports  18.859889  21.423764  10.367259     20.820179   \n",
      "15741  Role-Playing  13.526314  17.371387  32.834461     19.915971   \n",
      "...             ...        ...        ...        ...           ...   \n",
      "7553        Shooter  -0.311484  -0.288235  -0.251246     -0.338289   \n",
      "7569   Role-Playing  -0.323774  -0.268371  -0.251246     -0.338289   \n",
      "7601     Simulation  -0.311484  -0.288235  -0.251246     -0.338289   \n",
      "7605         Racing  -0.311484  -0.288235  -0.251246     -0.338289   \n",
      "7606         Sports  -0.311484  -0.288235  -0.251246     -0.338289   \n",
      "\n",
      "       Critic_Score  User_Score  \n",
      "5140       0.500142    0.579856  \n",
      "16561      1.001891    1.179333  \n",
      "5899       0.930213    0.779682  \n",
      "5100       0.786856    0.579856  \n",
      "15741      1.360283    1.112724  \n",
      "...             ...         ...  \n",
      "7553       0.070072    1.379158  \n",
      "7569       1.503640    1.445767  \n",
      "7601       0.715177    1.512375  \n",
      "7605       0.858534    1.578983  \n",
      "7606       0.643499    1.578983  \n",
      "\n",
      "[10452 rows x 10 columns]\n"
     ]
    }
   ],
   "source": [
    "columns_to_standardize = [\"Global_Sales\", \"User_Score\", \"Critic_Score\",\n",
    "                          \"EU_Sales\", \"NA_Sales\", \"JP_Sales\", \"Year_of_Release\"]\n",
    "standardize(data, columns_to_standardize, columns_stats)\n",
    "print(data)"
   ]
  },
  {
   "cell_type": "markdown",
   "metadata": {},
   "source": [
    "Generate missing User Score and Critic Score values (using KNN method)"
   ]
  },
  {
   "cell_type": "code",
   "execution_count": 7,
   "metadata": {
    "pycharm": {
     "name": "#%% capture\n"
    }
   },
   "outputs": [],
   "source": [
    "data = data.reset_index(drop=True)\n",
    "columns_to_use = [\"Global_Sales\", \"Year_of_Release\", \"User_Score\", \"Critic_Score\",\n",
    "                  \"EU_Sales\", \"NA_Sales\", \"JP_Sales\", \"Year_of_Release\"]\n",
    "missing_values_generator_df = data[columns_to_use]\n",
    "missing_values_handler = KNNImputer(n_neighbors=10)\n",
    "data[columns_to_use] = pd.DataFrame(missing_values_handler.fit_transform(missing_values_generator_df),\n",
    "                                    columns=columns_to_use)"
   ]
  },
  {
   "cell_type": "markdown",
   "metadata": {},
   "source": [
    "De-standardize data after generating missing values using KNN"
   ]
  },
  {
   "cell_type": "code",
   "execution_count": 8,
   "metadata": {
    "pycharm": {
     "name": "#%%\n"
    }
   },
   "outputs": [],
   "source": [
    "de_standardize(data, columns_to_standardize, columns_stats)"
   ]
  },
  {
   "cell_type": "markdown",
   "metadata": {},
   "source": [
    "Display statistics after handling missing values"
   ]
  },
  {
   "cell_type": "code",
   "execution_count": 9,
   "metadata": {
    "pycharm": {
     "name": "#%%\n"
    }
   },
   "outputs": [
    {
     "name": "stdout",
     "output_type": "stream",
     "text": [
      "Number of rows: 10452\n",
      "\n",
      "Number of NaNs in each column: \n",
      "Name               0\n",
      "Platform           0\n",
      "Year_of_Release    0\n",
      "Genre              0\n",
      "NA_Sales           0\n",
      "EU_Sales           0\n",
      "JP_Sales           0\n",
      "Global_Sales       0\n",
      "Critic_Score       0\n",
      "User_Score         0\n",
      "dtype: int64\n",
      "\n",
      "Detailed stats: \n",
      "        Global_Sales    User_Score  Critic_Score   EU_Sales   NA_Sales  \\\n",
      "max        82.530000  9.600000e+00     99.000000  28.960000  41.360000   \n",
      "min         0.010000  8.881784e-16     13.000000   0.000000   0.000000   \n",
      "std         1.904295  1.302502e+00     12.449681   0.622661   1.002670   \n",
      "mean        0.810365  7.270068e+00     70.942011   0.225307   0.402908   \n",
      "median      0.360000  7.500000e+00     72.400000   0.070000   0.170000   \n",
      "\n",
      "         JP_Sales  Year_of_Release  \n",
      "max     10.220000      2016.000000  \n",
      "min      0.000000      1977.000000  \n",
      "std      0.385861         6.070377  \n",
      "mean     0.108312      2006.003636  \n",
      "median   0.000000      2007.000000  \n"
     ]
    }
   ],
   "source": [
    "print(\"Number of rows: {}\".format(data.shape[0]))\n",
    "print(\"\\nNumber of NaNs in each column: \\n{}\".format(data.isna().sum()))\n",
    "columns_stats = data.agg({item: stats_to_compute for item in columns_to_get_stats_from})\n",
    "print(\"\\nDetailed stats: \\n{}\".format(columns_stats))"
   ]
  },
  {
   "cell_type": "markdown",
   "metadata": {},
   "source": [
    "Save modified dataset to file"
   ]
  },
  {
   "cell_type": "code",
   "execution_count": null,
   "metadata": {
    "pycharm": {
     "is_executing": true,
     "name": "#%%\n"
    }
   },
   "outputs": [
    {
     "name": "stdout",
     "output_type": "stream",
     "text": [
      "                                            Name Platform  Year_of_Release  \\\n",
      "0                                     Wii Sports      Wii           2006.0   \n",
      "1                              Super Mario Bros.      NES           1985.0   \n",
      "2                                 Mario Kart Wii      Wii           2008.0   \n",
      "3                              Wii Sports Resort      Wii           2009.0   \n",
      "4                       Pokemon Red/Pokemon Blue       GB           1996.0   \n",
      "...                                          ...      ...              ...   \n",
      "10447  Greg Hastings' Tournament Paintball Max'd      PS2           2006.0   \n",
      "10448                                    Deus Ex       PC           2000.0   \n",
      "10449                  Monster Rancher Advance 2      GBA           2002.0   \n",
      "10450                              Karnaaj Rally      GBA           2003.0   \n",
      "10451                Wade Hixton's Counter Punch      GBA           2004.0   \n",
      "\n",
      "              Genre  NA_Sales  EU_Sales  JP_Sales  Global_Sales  Critic_Score  \\\n",
      "0            Sports     41.36     28.96      3.77         82.53          76.0   \n",
      "1          Platform     29.08      3.58      6.81         40.24          83.0   \n",
      "2            Racing     15.68     12.76      3.79         35.52          82.0   \n",
      "3            Sports     15.61     10.93      3.28         32.77          80.0   \n",
      "4      Role-Playing     11.27      8.89     10.22         31.37          88.0   \n",
      "...             ...       ...       ...       ...           ...           ...   \n",
      "10447       Shooter      0.01      0.00      0.00          0.01          70.0   \n",
      "10448  Role-Playing      0.00      0.01      0.00          0.01          90.0   \n",
      "10449    Simulation      0.01      0.00      0.00          0.01          79.0   \n",
      "10450        Racing      0.01      0.00      0.00          0.01          81.0   \n",
      "10451        Sports      0.01      0.00      0.00          0.01          78.0   \n",
      "\n",
      "       User_Score  \n",
      "0             8.0  \n",
      "1             8.9  \n",
      "2             8.3  \n",
      "3             8.0  \n",
      "4             8.8  \n",
      "...           ...  \n",
      "10447         9.2  \n",
      "10448         9.3  \n",
      "10449         9.4  \n",
      "10450         9.5  \n",
      "10451         9.5  \n",
      "\n",
      "[10452 rows x 10 columns]\n"
     ]
    }
   ],
   "source": [
    "print(data)\n",
    "data.to_excel(\"../data/games_sales_2016_preprocessed.xlsx\")"
   ]
  },
  {
   "cell_type": "markdown",
   "metadata": {
    "pycharm": {
     "name": "#%% md\n"
    }
   },
   "source": [
    "### TODO:\n",
    " - wstepna analiza danych - uporzadkować (np. ilosc z danego gatunku, roku, platoformy itp, suma sprzedaży na rok) - **Jarek**\n",
    " - outliers (analiza, kalibracja itd) 1D + 2D - **Jarek**\n",
    " - klasteryzacja (analiza, kalibracja, przekroje np. tylko dla nowych konsol) - **Arek**\n",
    " - klasyfikacja - **Arek**"
   ]
  }
 ],
 "metadata": {
  "kernelspec": {
   "display_name": "PyCharm (scripts)",
   "language": "python",
   "name": "pycharm-268fb1dd"
  },
  "language_info": {
   "codemirror_mode": {
    "name": "ipython",
    "version": 3
   },
   "file_extension": ".py",
   "mimetype": "text/x-python",
   "name": "python",
   "nbconvert_exporter": "python",
   "pygments_lexer": "ipython3",
   "version": "3.8.5"
  }
 },
 "nbformat": 4,
 "nbformat_minor": 1
}