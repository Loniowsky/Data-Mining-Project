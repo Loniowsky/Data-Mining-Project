{
 "cells": [
  {
   "cell_type": "markdown",
   "metadata": {
    "collapsed": true,
    "pycharm": {
     "name": "#%% md\n"
    }
   },
   "source": [
    "### Constants and lambdas\n",
    "Variables and lambdas used through the whole preprocessing."
   ]
  },
  {
   "cell_type": "code",
   "execution_count": 10,
   "metadata": {
    "pycharm": {
     "name": "#%% \n"
    }
   },
   "outputs": [],
   "source": [
    "columns_to_drop=[\"Platform\", \"Other_Sales\", \"Critic_Count\", \"User_Count\", \"Rating\", \"Developer\"]\n",
    "needed_samples_lambda = lambda x: round((30./x)+1)\n",
    "range_for_samples_lambda = lambda x: x*0.04 if x*0.04>0.01 else 0.01\n",
    "\n",
    "def standardize(column):\n",
    "    print(\"Max: {} Min: {}\".format(column.max(), column.min()))\n",
    "    stddev = column.std()\n",
    "    mean = column.mean()\n",
    "    return column.apply(lambda x: (x-mean)/stddev)"
   ]
  },
  {
   "cell_type": "markdown",
   "source": [
    "### Data loading and preprocessing\n",
    "Load data from excel file, drop unused columns, replace missing values indicators (like tbd) with NaNs,\n",
    "convert column types from object to numeric if necessary."
   ],
   "metadata": {
    "collapsed": false,
    "pycharm": {
     "name": "#%% md\n"
    }
   }
  },
  {
   "cell_type": "code",
   "execution_count": 11,
   "metadata": {
    "pycharm": {
     "name": "#%%\n"
    }
   },
   "outputs": [],
   "source": [
    "import pandas as pd\n",
    "import numpy as np\n",
    "\n",
    "data = pd.read_excel(\"../data/games_sales_2016_modified.xlsx\")\n",
    "data = data.drop(columns=columns_to_drop)\n",
    "data = data.replace({'tbd': np.NaN})\n",
    "data[\"Critic_Score\"] = pd.to_numeric(data[\"Critic_Score\"])\n",
    "data[\"User_Score\"] = pd.to_numeric(data[\"User_Score\"])"
   ]
  },
  {
   "cell_type": "markdown",
   "source": [
    "### Handling missing values\n",
    "There are no missing values in EU_Sales, JP_Sales, NA_Sales and Global_Sales columns.\n",
    "Some columns should be filled manually, while others can be generated (for example some\n",
    "critic and user scores)."
   ],
   "metadata": {
    "collapsed": false,
    "pycharm": {
     "name": "#%% md\n"
    }
   }
  },
  {
   "cell_type": "markdown",
   "source": [
    "Remove entries without release date or without name"
   ],
   "metadata": {
    "collapsed": false
   }
  },
  {
   "cell_type": "code",
   "execution_count": 12,
   "outputs": [],
   "source": [
    "data = data.drop(data[data[\"Year_of_Release\"].isna()].index)\n",
    "data = data.drop(data[data[\"Name\"].isna()].index)"
   ],
   "metadata": {
    "collapsed": false,
    "pycharm": {
     "name": "#%% capture\n"
    }
   }
  },
  {
   "cell_type": "markdown",
   "source": [
    "Entries without publisher will be filled manually"
   ],
   "metadata": {
    "collapsed": false,
    "pycharm": {
     "name": "#%% md\n"
    }
   }
  },
  {
   "cell_type": "code",
   "execution_count": 13,
   "outputs": [
    {
     "name": "stdout",
     "output_type": "stream",
     "text": [
      "                                                    Name  Year_of_Release  \\\n",
      "483    Moshi, Kono Sekai ni Kami-sama ga Iru to suru ...           2016.0   \n",
      "530                                    Dance with Devils           2016.0   \n",
      "1182                                      World of Tanks           2014.0   \n",
      "3502                                        Stronghold 3           2011.0   \n",
      "4052                    Demolition Company: Gold Edition           2011.0   \n",
      "4131                              Driving Simulator 2011           2011.0   \n",
      "4823                              Farming Simulator 2011           2010.0   \n",
      "5237                                  UK Truck Simulator           2010.0   \n",
      "8295                                  Sonic the Hedgehog           2007.0   \n",
      "8410        Shrek / Shrek 2 2-in-1 Gameboy Advance Video           2007.0   \n",
      "10522                         wwe Smackdown vs. Raw 2006           2005.0   \n",
      "10626                                 Bentley's Hackpack           2005.0   \n",
      "10827  Cartoon Network Collection: Game Boy Advance V...           2005.0   \n",
      "11025  Cartoon Network Collection: Game Boy Advance V...           2005.0   \n",
      "11428  Nicktoons Collection: Game Boy Advance Video V...           2005.0   \n",
      "11461  Super Robot Monkey Team: Game Boy Advance Vide...           2005.0   \n",
      "11469                     Yu Yu Hakusho: Dark Tournament           2004.0   \n",
      "11636  Nicktoons Collection: Game Boy Advance Video V...           2004.0   \n",
      "11637  SpongeBob SquarePants: Game Boy Advance Video ...           2004.0   \n",
      "11672  SpongeBob SquarePants: Game Boy Advance Video ...           2004.0   \n",
      "11720  The Fairly Odd Parents: Game Boy Advance Video...           2004.0   \n",
      "11731  The Fairly Odd Parents: Game Boy Advance Video...           2004.0   \n",
      "11801           Sonic X: Game Boy Advance Video Volume 1           2004.0   \n",
      "11806  Dora the Explorer: Game Boy Advance Video Volu...           2004.0   \n",
      "11814  Cartoon Network Collection: Game Boy Advance V...           2004.0   \n",
      "11822     All Grown Up!: Game Boy Advance Video Volume 1           2004.0   \n",
      "11841  Nicktoons Collection: Game Boy Advance Video V...           2004.0   \n",
      "11858  SpongeBob SquarePants: Game Boy Advance Video ...           2004.0   \n",
      "11883                   Thomas the Tank Engine & Friends           2004.0   \n",
      "11899    Dragon Ball GT: Game Boy Advance Video Volume 1           2004.0   \n",
      "11901  Codename: Kids Next Door: Game Boy Advance Vid...           2004.0   \n",
      "11906  Teenage Mutant Ninja Turtles: Game Boy Advance...           2004.0   \n",
      "11926  Pokémon: Johto Photo Finish: Game Boy Advance ...           2004.0   \n",
      "11929  Strawberry Shortcake: Game Boy Advance Video V...           2004.0   \n",
      "11994                   Disney Channel Collection Vol. 1           2004.0   \n",
      "12051  Cartoon Network Collection: Game Boy Advance V...           2004.0   \n",
      "15054                                     Triple Play 99           1998.0   \n",
      "\n",
      "            Genre Publisher  NA_Sales  EU_Sales  JP_Sales  Global_Sales  \\\n",
      "483     Adventure       NaN      0.00      0.00      0.02          0.02   \n",
      "530        Action       NaN      0.00      0.00      0.01          0.01   \n",
      "1182      Shooter       NaN      0.00      0.03      0.00          0.03   \n",
      "3502     Strategy       NaN      0.06      0.10      0.00          0.16   \n",
      "4052   Simulation       NaN      0.00      0.02      0.00          0.02   \n",
      "4131       Racing       NaN      0.00      0.01      0.00          0.01   \n",
      "4823   Simulation       NaN      0.00      0.13      0.00          0.13   \n",
      "5237   Simulation       NaN      0.00      0.03      0.00          0.03   \n",
      "8295     Platform       NaN      0.00      0.48      0.00          0.48   \n",
      "8410         Misc       NaN      0.87      0.32      0.00          1.21   \n",
      "10522    Fighting       NaN      1.57      1.02      0.00          3.00   \n",
      "10626        Misc       NaN      0.67      0.25      0.00          0.93   \n",
      "10827        Misc       NaN      0.23      0.08      0.00          0.32   \n",
      "11025        Misc       NaN      0.11      0.04      0.00          0.15   \n",
      "11428        Misc       NaN      0.01      0.01      0.00          0.02   \n",
      "11461        Misc       NaN      0.01      0.00      0.00          0.01   \n",
      "11469    Fighting       NaN      0.10      0.08      0.00          0.21   \n",
      "11636        Misc       NaN      0.46      0.17      0.00          0.64   \n",
      "11637        Misc       NaN      0.46      0.17      0.00          0.64   \n",
      "11672        Misc       NaN      0.38      0.14      0.00          0.53   \n",
      "11720        Misc       NaN      0.31      0.11      0.00          0.43   \n",
      "11731        Misc       NaN      0.30      0.11      0.00          0.42   \n",
      "11801        Misc       NaN      0.19      0.07      0.00          0.27   \n",
      "11806        Misc       NaN      0.18      0.07      0.00          0.26   \n",
      "11814        Misc       NaN      0.18      0.07      0.00          0.25   \n",
      "11822        Misc       NaN      0.17      0.06      0.00          0.24   \n",
      "11841        Misc       NaN      0.16      0.06      0.00          0.22   \n",
      "11858        Misc       NaN      0.15      0.05      0.00          0.21   \n",
      "11883   Adventure       NaN      0.13      0.05      0.00          0.19   \n",
      "11899        Misc       NaN      0.12      0.05      0.00          0.17   \n",
      "11901        Misc       NaN      0.12      0.05      0.00          0.17   \n",
      "11906        Misc       NaN      0.12      0.04      0.00          0.17   \n",
      "11926        Misc       NaN      0.11      0.04      0.00          0.15   \n",
      "11929        Misc       NaN      0.11      0.04      0.00          0.15   \n",
      "11994        Misc       NaN      0.08      0.03      0.00          0.11   \n",
      "12051        Misc       NaN      0.06      0.02      0.00          0.08   \n",
      "15054      Sports       NaN      0.81      0.55      0.00          1.46   \n",
      "\n",
      "       Critic_Score  User_Score  \n",
      "483             NaN         NaN  \n",
      "530             NaN         NaN  \n",
      "1182            NaN         5.2  \n",
      "3502           47.0         3.0  \n",
      "4052            NaN         NaN  \n",
      "4131            NaN         NaN  \n",
      "4823            NaN         7.0  \n",
      "5237            NaN         NaN  \n",
      "8295           43.0         4.1  \n",
      "8410            NaN         NaN  \n",
      "10522           NaN         NaN  \n",
      "10626           NaN         NaN  \n",
      "10827           NaN         NaN  \n",
      "11025           NaN         NaN  \n",
      "11428           NaN         NaN  \n",
      "11461           NaN         NaN  \n",
      "11469          56.0         8.5  \n",
      "11636           NaN         NaN  \n",
      "11637           NaN         NaN  \n",
      "11672           NaN         NaN  \n",
      "11720           NaN         NaN  \n",
      "11731           NaN         NaN  \n",
      "11801           NaN         NaN  \n",
      "11806           NaN         NaN  \n",
      "11814           NaN         NaN  \n",
      "11822           NaN         NaN  \n",
      "11841           NaN         NaN  \n",
      "11858           NaN         NaN  \n",
      "11883           NaN         NaN  \n",
      "11899           NaN         NaN  \n",
      "11901           NaN         NaN  \n",
      "11906           NaN         NaN  \n",
      "11926           NaN         NaN  \n",
      "11929           NaN         NaN  \n",
      "11994           NaN         NaN  \n",
      "12051           NaN         NaN  \n",
      "15054           NaN         NaN  \n"
     ]
    }
   ],
   "source": [
    "print(data[data[\"Publisher\"].isna()])"
   ],
   "metadata": {
    "collapsed": false,
    "pycharm": {
     "name": "#%%\n"
    }
   }
  },
  {
   "cell_type": "markdown",
   "source": [
    "Generate missing Critic Score values."
   ],
   "metadata": {
    "collapsed": false
   }
  },
  {
   "cell_type": "code",
   "execution_count": 14,
   "outputs": [],
   "source": [
    "data_for_global_sales_in_range = data[(data[\"Global_Sales\"]<8) & (data[\"Global_Sales\"]>=0.2)]\n",
    "for index, values in data_for_global_sales_in_range[data_for_global_sales_in_range[\"Critic_Score\"].isna()].iterrows():\n",
    "    number_of_needed_samples = needed_samples_lambda(values[\"Global_Sales\"])\n",
    "    range_for_samples = range_for_samples_lambda(values[\"Global_Sales\"])\n",
    "    possible_samples = data.drop(data[data[\"Critic_Score\"].isna()].index)\n",
    "    possible_samples= possible_samples[(values[\"Global_Sales\"] - range_for_samples <= possible_samples[\"Global_Sales\"]) \n",
    "         & (values[\"Global_Sales\"] + range_for_samples >= possible_samples[\"Global_Sales\"])]\n",
    "    if len(possible_samples.index) > number_of_needed_samples:\n",
    "        randomized_critic_score = possible_samples.sample()[\"Critic_Score\"]\n",
    "        data.at[index, \"Critic_Score\"] = randomized_critic_score"
   ],
   "metadata": {
    "collapsed": false,
    "pycharm": {
     "name": "#%% capture\n"
    }
   }
  },
  {
   "cell_type": "markdown",
   "source": [
    "Generate missing User Score values."
   ],
   "metadata": {
    "collapsed": false
   }
  },
  {
   "cell_type": "code",
   "execution_count": 15,
   "outputs": [],
   "source": [
    "data_for_global_sales_in_range = data[(data[\"Global_Sales\"]<8) & (data[\"Global_Sales\"]>=0.2)]\n",
    "for index, values in data_for_global_sales_in_range[data_for_global_sales_in_range[\"User_Score\"].isna()].iterrows():\n",
    "    number_of_needed_samples = needed_samples_lambda(values[\"Global_Sales\"])\n",
    "    range_for_samples = range_for_samples_lambda(values[\"Global_Sales\"])\n",
    "    possible_samples = data.drop(data[data[\"User_Score\"].isna()].index)\n",
    "    possible_samples= possible_samples[(values[\"Global_Sales\"] - range_for_samples <= possible_samples[\"Global_Sales\"]) \n",
    "         & (values[\"Global_Sales\"] + range_for_samples >= possible_samples[\"Global_Sales\"])]\n",
    "    if len(possible_samples.index) > number_of_needed_samples:\n",
    "        randomized_user_score = possible_samples.sample()[\"User_Score\"]\n",
    "        data.at[index, \"User_Score\"] = randomized_user_score"
   ],
   "metadata": {
    "collapsed": false,
    "pycharm": {
     "name": "#%% capture\n"
    }
   }
  },
  {
   "cell_type": "markdown",
   "source": [
    "Remove games without Critic or User Score with global sales below 0.2m"
   ],
   "metadata": {
    "collapsed": false
   }
  },
  {
   "cell_type": "code",
   "execution_count": 16,
   "outputs": [],
   "source": [
    "data = data.drop(data[\n",
    "    (data[\"Critic_Score\"].isna() | data[\"User_Score\"].isna()) &\n",
    "    (data[\"Global_Sales\"] < 0.2)\n",
    "].index)"
   ],
   "metadata": {
    "collapsed": false,
    "pycharm": {
     "name": "#%%\n"
    }
   }
  },
  {
   "cell_type": "markdown",
   "source": [
    "Normalization & Standardization"
   ],
   "metadata": {
    "collapsed": false,
    "pycharm": {
     "name": "#%% md\n",
     "is_executing": false
    }
   }
  },
  {
   "cell_type": "code",
   "execution_count": 17,
   "outputs": [
    {
     "name": "stdout",
     "output_type": "stream",
     "text": [
      "74       0.85\n",
      "75       0.85\n",
      "76       0.93\n",
      "77       0.77\n",
      "78       0.88\n",
      "         ... \n",
      "16705    0.51\n",
      "16706    0.63\n",
      "16707    0.77\n",
      "16708    0.69\n",
      "16709    0.92\n",
      "Name: Critic_Score, Length: 10452, dtype: float64\n"
     ]
    }
   ],
   "source": [
    "data[\"Critic_Score\"] = data[\"Critic_Score\"] / 100.\n",
    "data[\"User_Score\"] = data[\"User_Score\"] / 10.\n",
    "\n",
    "# data[\"Global_Sales\"] = standardize(data[\"Global_Sales\"])\n",
    "# data[\"EU_Sales\"] = standardize(data[\"EU_Sales\"])\n",
    "# data[\"JP_Sales\"] = standardize(data[\"JP_Sales\"])\n",
    "# data[\"NA_Sales\"] = standardize(data[\"NA_Sales\"])\n",
    "print(data[\"Critic_Score\"])"
   ],
   "metadata": {
    "collapsed": false,
    "pycharm": {
     "name": "#%%\n"
    }
   }
  },
  {
   "cell_type": "markdown",
   "source": [
    "Save modified dataset to file"
   ],
   "metadata": {
    "collapsed": false
   }
  },
  {
   "cell_type": "code",
   "execution_count": 18,
   "outputs": [],
   "source": [
    "data.to_excel(\"../data/games_sales_2016_preprocessed.xlsx\")"
   ],
   "metadata": {
    "collapsed": false,
    "pycharm": {
     "name": "#%%\n"
    }
   }
  },
  {
   "cell_type": "markdown",
   "source": [
    "#TODO\n",
    "\n",
    "- dodac lata dla brakujących release date z sales większę, bądź równe 0.5m - Arek\n",
    "- dodac publisherów brakujących - J\n",
    "- dodac Critic Score recznie dla gier powyzej 8 - J\n",
    "- dodac User Score recznie dla gier powyzej 8 - J\n",
    "- zapytac o standaryzacje\n",
    "- zapytac o uzupelnianie brakujących critic score/user score i czy brac pod uwage jeszcze rok"
   ],
   "metadata": {
    "collapsed": false,
    "pycharm": {
     "name": "#%% md\n"
    }
   }
  }
 ],
 "metadata": {
  "kernelspec": {
   "name": "pycharm-268fb1dd",
   "language": "python",
   "display_name": "PyCharm (scripts)"
  },
  "language_info": {
   "codemirror_mode": {
    "name": "ipython",
    "version": 3
   },
   "file_extension": ".py",
   "mimetype": "text/x-python",
   "name": "python",
   "nbconvert_exporter": "python",
   "pygments_lexer": "ipython3",
   "version": "3.7.9"
  }
 },
 "nbformat": 4,
 "nbformat_minor": 1
}