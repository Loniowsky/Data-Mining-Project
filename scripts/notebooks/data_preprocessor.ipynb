{
 "cells": [
  {
   "cell_type": "code",
   "execution_count": 132,
   "outputs": [],
   "source": [
    "from sklearn.impute import KNNImputer\n",
    "import pandas as pd\n",
    "import numpy as np"
   ],
   "metadata": {
    "collapsed": false,
    "pycharm": {
     "name": "#%%\n"
    }
   }
  },
  {
   "cell_type": "markdown",
   "metadata": {
    "collapsed": true,
    "pycharm": {
     "name": "#%% md\n"
    }
   },
   "source": [
    "### Constants and lambdas\n",
    "Variables and lambdas used through the whole preprocessing."
   ]
  },
  {
   "cell_type": "code",
   "execution_count": 133,
   "metadata": {
    "pycharm": {
     "name": "#%%\n"
    }
   },
   "outputs": [],
   "source": [
    "columns_to_drop=[\"Other_Sales\", \"Critic_Count\", \"User_Count\", \"Rating\", \"Developer\", \"Publisher\"]\n",
    "needed_samples_lambda = lambda x: round((30./x)+1)\n",
    "range_for_samples_lambda = lambda x: x*0.04 if x*0.04>0.01 else 0.01\n",
    "\n",
    "def standardize(column):\n",
    "    print(\"Max: {} Min: {}\".format(column.max(), column.min()))\n",
    "    stddev = column.std()\n",
    "    mean = column.mean()\n",
    "    return column.apply(lambda x: (x-mean)/stddev)"
   ]
  },
  {
   "cell_type": "markdown",
   "source": [
    "### Data loading and preprocessing\n",
    "Load data from excel file, drop unused columns, replace missing values indicators (like tbd) with NaNs,\n",
    "convert column types from object to numeric if necessary."
   ],
   "metadata": {
    "collapsed": false,
    "pycharm": {
     "name": "#%% md\n"
    }
   }
  },
  {
   "cell_type": "code",
   "execution_count": 134,
   "metadata": {
    "pycharm": {
     "name": "#%%\n"
    }
   },
   "outputs": [],
   "source": [
    "data = pd.read_excel(\"../data/games_sales_2016_modified.xlsx\")\n",
    "data = data.drop(columns=columns_to_drop)\n",
    "data = data.replace({'tbd': np.NaN})\n",
    "data[\"Critic_Score\"] = pd.to_numeric(data[\"Critic_Score\"])\n",
    "data[\"User_Score\"] = pd.to_numeric(data[\"User_Score\"])"
   ]
  },
  {
   "cell_type": "markdown",
   "source": [
    "### Handling missing values\n",
    "There are no missing values in EU_Sales, JP_Sales, NA_Sales and Global_Sales columns.\n",
    "Some columns should be filled manually, while others can be generated (for example some\n",
    "critic and user scores)."
   ],
   "metadata": {
    "collapsed": false,
    "pycharm": {
     "name": "#%% md\n"
    }
   }
  },
  {
   "cell_type": "markdown",
   "source": [
    "Remove entries without release date or without name"
   ],
   "metadata": {
    "collapsed": false
   }
  },
  {
   "cell_type": "code",
   "execution_count": 135,
   "outputs": [],
   "source": [
    "data = data.drop(data[data[\"Year_of_Release\"].isna()].index)\n",
    "data = data.drop(data[data[\"Name\"].isna()].index)"
   ],
   "metadata": {
    "collapsed": false,
    "pycharm": {
     "name": "#%% capture\n"
    }
   }
  },
  {
   "cell_type": "markdown",
   "source": [
    "Remove games without Critic or User Score with global sales below 0.2m"
   ],
   "metadata": {
    "collapsed": false
   }
  },
  {
   "cell_type": "code",
   "execution_count": 136,
   "outputs": [],
   "source": [
    "data = data.drop(data[\n",
    "    (data[\"Critic_Score\"].isna() | data[\"User_Score\"].isna()) &\n",
    "    (data[\"Global_Sales\"] < 0.2)\n",
    "].index)"
   ],
   "metadata": {
    "collapsed": false,
    "pycharm": {
     "name": "#%%\n"
    }
   }
  },
  {
   "cell_type": "markdown",
   "source": [
    "Generate missing User Score and Critic Score values."
   ],
   "metadata": {
    "collapsed": false
   }
  },
  {
   "cell_type": "code",
   "execution_count": 137,
   "outputs": [],
   "source": [
    "data = data.reset_index()\n",
    "columns_to_use = [\"Global_Sales\", \"Year_of_Release\", \"User_Score\", \"Critic_Score\", \"EU_Sales\", \"NA_Sales\", \"JP_Sales\"]\n",
    "missing_values_generator_df = data[columns_to_use]\n",
    "missing_values_handler = KNNImputer(n_neighbors=10)\n",
    "data[columns_to_use] = pd.DataFrame(missing_values_handler.fit_transform(missing_values_generator_df), columns=columns_to_use)"
   ],
   "metadata": {
    "collapsed": false,
    "pycharm": {
     "name": "#%% capture\n"
    }
   }
  },
  {
   "cell_type": "markdown",
   "source": [
    "Normalization & Standardization"
   ],
   "metadata": {
    "collapsed": false,
    "pycharm": {
     "name": "#%% md\n",
     "is_executing": false
    }
   }
  },
  {
   "cell_type": "code",
   "execution_count": 138,
   "outputs": [
    {
     "name": "stdout",
     "output_type": "stream",
     "text": [
      "0        0.76\n",
      "1        0.83\n",
      "2        0.82\n",
      "3        0.80\n",
      "4        0.88\n",
      "         ... \n",
      "10447    0.70\n",
      "10448    0.90\n",
      "10449    0.79\n",
      "10450    0.81\n",
      "10451    0.78\n",
      "Name: Critic_Score, Length: 10452, dtype: float64\n"
     ]
    }
   ],
   "source": [
    "data[\"Critic_Score\"] = data[\"Critic_Score\"] / 100.\n",
    "data[\"User_Score\"] = data[\"User_Score\"] / 10.\n",
    "\n",
    "# data[\"Global_Sales\"] = standardize(data[\"Global_Sales\"])\n",
    "# data[\"EU_Sales\"] = standardize(data[\"EU_Sales\"])\n",
    "# data[\"JP_Sales\"] = standardize(data[\"JP_Sales\"])\n",
    "# data[\"NA_Sales\"] = standardize(data[\"NA_Sales\"])\n",
    "print(data[\"Critic_Score\"])"
   ],
   "metadata": {
    "collapsed": false,
    "pycharm": {
     "name": "#%%\n"
    }
   }
  },
  {
   "cell_type": "markdown",
   "source": [
    "Save modified dataset to file"
   ],
   "metadata": {
    "collapsed": false
   }
  },
  {
   "cell_type": "code",
   "execution_count": 139,
   "outputs": [],
   "source": [
    "data.to_excel(\"../data/games_sales_2016_preprocessed.xlsx\")"
   ],
   "metadata": {
    "collapsed": false,
    "pycharm": {
     "name": "#%%\n"
    }
   }
  },
  {
   "cell_type": "markdown",
   "source": [
    "# Pytania:\n",
    "- zapytac o standaryzacje\n",
    "- zapytac o uzupelnianie brakujących critic score/user score i czy brac pod uwage jeszcze rok\n",
    "\n",
    "# TODO:\n",
    " - macierz korelacji miedzy kolumnami liczbowymi - J\n",
    " - heatmapa (genre, platforma, sprzedaz) - J\n",
    " - klasteryzacja - A\n",
    " - poprobowac inne parametry do outliersow i dodac zapisywanie do pliku - A\n",
    " - analiza: ktore elementy to outliersy, powtorzyc rysowanie po odrzuceniu, inne pomysly - A"
   ],
   "metadata": {
    "collapsed": false,
    "pycharm": {
     "name": "#%% md\n"
    }
   }
  }
 ],
 "metadata": {
  "kernelspec": {
   "name": "pycharm-268fb1dd",
   "language": "python",
   "display_name": "PyCharm (scripts)"
  },
  "language_info": {
   "codemirror_mode": {
    "name": "ipython",
    "version": 3
   },
   "file_extension": ".py",
   "mimetype": "text/x-python",
   "name": "python",
   "nbconvert_exporter": "python",
   "pygments_lexer": "ipython3",
   "version": "3.7.9"
  }
 },
 "nbformat": 4,
 "nbformat_minor": 1
}