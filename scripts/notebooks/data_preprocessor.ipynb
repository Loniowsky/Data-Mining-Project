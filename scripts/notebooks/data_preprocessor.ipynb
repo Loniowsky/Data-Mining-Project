{
 "cells": [
  {
   "cell_type": "code",
   "execution_count": 8,
   "outputs": [],
   "source": [
    "from sklearn.impute import KNNImputer\n",
    "import pandas as pd\n",
    "import numpy as np"
   ],
   "metadata": {
    "collapsed": false,
    "pycharm": {
     "name": "#%%\n"
    }
   }
  },
  {
   "cell_type": "markdown",
   "source": [
    "### Data loading and preprocessing\n",
    "Load data from excel file, drop unused columns, replace missing values indicators (like tbd) with NaNs,\n",
    "convert column types from object to numeric if necessary."
   ],
   "metadata": {
    "collapsed": false,
    "pycharm": {
     "name": "#%% md\n"
    }
   }
  },
  {
   "cell_type": "code",
   "execution_count": 9,
   "metadata": {
    "pycharm": {
     "name": "#%%\n"
    }
   },
   "outputs": [],
   "source": [
    "columns_to_drop=[\"Other_Sales\", \"Critic_Count\", \"User_Count\", \"Rating\", \"Developer\", \"Publisher\"]\n",
    "\n",
    "data = pd.read_excel(\"../data/games_sales_2016_modified.xlsx\", index_col=0)\n",
    "data = data.drop(columns=columns_to_drop)\n",
    "data = data.replace({'tbd': np.NaN})\n",
    "data[\"Critic_Score\"] = pd.to_numeric(data[\"Critic_Score\"])\n",
    "data[\"User_Score\"] = pd.to_numeric(data[\"User_Score\"])"
   ]
  },
  {
   "cell_type": "markdown",
   "source": [
    "### Handling missing values\n",
    "There are no missing values in EU_Sales, JP_Sales, NA_Sales and Global_Sales columns.\n",
    "Some columns should be filled manually, while others can be generated (for example some\n",
    "critic and user scores)."
   ],
   "metadata": {
    "collapsed": false,
    "pycharm": {
     "name": "#%% md\n"
    }
   }
  },
  {
   "cell_type": "markdown",
   "source": [
    "Remove entries without release date or without name"
   ],
   "metadata": {
    "collapsed": false
   }
  },
  {
   "cell_type": "code",
   "execution_count": 10,
   "outputs": [],
   "source": [
    "data = data.drop(data[data[\"Year_of_Release\"].isna()].index)\n",
    "data = data.drop(data[data[\"Name\"].isna()].index)"
   ],
   "metadata": {
    "collapsed": false,
    "pycharm": {
     "name": "#%% capture\n"
    }
   }
  },
  {
   "cell_type": "markdown",
   "source": [
    "Remove games without Critic or User Score with global sales below 0.2m"
   ],
   "metadata": {
    "collapsed": false
   }
  },
  {
   "cell_type": "code",
   "execution_count": 11,
   "outputs": [],
   "source": [
    "data = data.drop(data[\n",
    "    (data[\"Critic_Score\"].isna() | data[\"User_Score\"].isna()) &\n",
    "    (data[\"Global_Sales\"] < 0.2)\n",
    "].index)"
   ],
   "metadata": {
    "collapsed": false,
    "pycharm": {
     "name": "#%%\n"
    }
   }
  },
  {
   "cell_type": "markdown",
   "source": [
    "Generate missing User Score and Critic Score values."
   ],
   "metadata": {
    "collapsed": false
   }
  },
  {
   "cell_type": "code",
   "execution_count": 12,
   "outputs": [
    {
     "name": "stdout",
     "output_type": "stream",
     "text": [
      "Name               0\n",
      "Platform           0\n",
      "Year_of_Release    0\n",
      "Genre              0\n",
      "NA_Sales           0\n",
      "EU_Sales           0\n",
      "JP_Sales           0\n",
      "Global_Sales       0\n",
      "Critic_Score       0\n",
      "User_Score         0\n",
      "dtype: int64\n"
     ]
    }
   ],
   "source": [
    "data = data.reset_index(drop=True)\n",
    "columns_to_use = [\"Global_Sales\", \"Year_of_Release\", \"User_Score\", \"Critic_Score\", \"EU_Sales\", \"NA_Sales\", \"JP_Sales\"]\n",
    "missing_values_generator_df = data[columns_to_use]\n",
    "missing_values_handler = KNNImputer(n_neighbors=10)\n",
    "data[columns_to_use] = pd.DataFrame(missing_values_handler.fit_transform(missing_values_generator_df), columns=columns_to_use)\n",
    "print(data.isna().sum())"
   ],
   "metadata": {
    "collapsed": false,
    "pycharm": {
     "name": "#%% capture\n"
    }
   }
  },
  {
   "cell_type": "markdown",
   "source": [
    "Save modified dataset to file"
   ],
   "metadata": {
    "collapsed": false
   }
  },
  {
   "cell_type": "code",
   "execution_count": 13,
   "outputs": [
    {
     "name": "stdout",
     "output_type": "stream",
     "text": [
      "                                            Name Platform  Year_of_Release  \\\n",
      "0                                     Wii Sports      Wii           2006.0   \n",
      "1                              Super Mario Bros.      NES           1985.0   \n",
      "2                                 Mario Kart Wii      Wii           2008.0   \n",
      "3                              Wii Sports Resort      Wii           2009.0   \n",
      "4                       Pokemon Red/Pokemon Blue       GB           1996.0   \n",
      "...                                          ...      ...              ...   \n",
      "10447  Greg Hastings' Tournament Paintball Max'd      PS2           2006.0   \n",
      "10448                                    Deus Ex       PC           2000.0   \n",
      "10449                  Monster Rancher Advance 2      GBA           2002.0   \n",
      "10450                              Karnaaj Rally      GBA           2003.0   \n",
      "10451                Wade Hixton's Counter Punch      GBA           2004.0   \n",
      "\n",
      "              Genre  NA_Sales  EU_Sales  JP_Sales  Global_Sales  Critic_Score  \\\n",
      "0            Sports     41.36     28.96      3.77         82.53          76.0   \n",
      "1          Platform     29.08      3.58      6.81         40.24          83.0   \n",
      "2            Racing     15.68     12.76      3.79         35.52          82.0   \n",
      "3            Sports     15.61     10.93      3.28         32.77          80.0   \n",
      "4      Role-Playing     11.27      8.89     10.22         31.37          88.0   \n",
      "...             ...       ...       ...       ...           ...           ...   \n",
      "10447       Shooter      0.01      0.00      0.00          0.01          70.0   \n",
      "10448  Role-Playing      0.00      0.01      0.00          0.01          90.0   \n",
      "10449    Simulation      0.01      0.00      0.00          0.01          79.0   \n",
      "10450        Racing      0.01      0.00      0.00          0.01          81.0   \n",
      "10451        Sports      0.01      0.00      0.00          0.01          78.0   \n",
      "\n",
      "       User_Score  \n",
      "0             8.0  \n",
      "1             8.9  \n",
      "2             8.3  \n",
      "3             8.0  \n",
      "4             8.8  \n",
      "...           ...  \n",
      "10447         9.2  \n",
      "10448         9.3  \n",
      "10449         9.4  \n",
      "10450         9.5  \n",
      "10451         9.5  \n",
      "\n",
      "[10452 rows x 10 columns]\n"
     ]
    }
   ],
   "source": [
    "print(data)\n",
    "data.to_excel(\"../data/games_sales_2016_preprocessed.xlsx\")"
   ],
   "metadata": {
    "collapsed": false,
    "pycharm": {
     "name": "#%%\n"
    }
   }
  },
  {
   "cell_type": "markdown",
   "source": [
    "# Pytania:\n",
    "- zapytac o standaryzacje\n",
    "- zapytac o uzupelnianie brakujących critic score/user score i czy brac pod uwage jeszcze rok\n",
    "\n",
    "# TODO:\n",
    " - macierz korelacji miedzy kolumnami liczbowymi - J\n",
    " - heatmapa (genre, platforma, sprzedaz) - J\n",
    " - klasteryzacja - A\n",
    " - poprobowac inne parametry do outliersow i dodac zapisywanie do pliku - A\n",
    " - analiza: ktore elementy to outliersy, powtorzyc rysowanie po odrzuceniu, inne pomysly - A"
   ],
   "metadata": {
    "collapsed": false,
    "pycharm": {
     "name": "#%% md\n"
    }
   }
  }
 ],
 "metadata": {
  "kernelspec": {
   "name": "pycharm-268fb1dd",
   "language": "python",
   "display_name": "PyCharm (scripts)"
  },
  "language_info": {
   "codemirror_mode": {
    "name": "ipython",
    "version": 3
   },
   "file_extension": ".py",
   "mimetype": "text/x-python",
   "name": "python",
   "nbconvert_exporter": "python",
   "pygments_lexer": "ipython3",
   "version": "3.7.9"
  }
 },
 "nbformat": 4,
 "nbformat_minor": 1
}