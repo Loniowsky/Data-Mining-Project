{
 "cells": [
  {
   "cell_type": "code",
   "execution_count": 1,
   "metadata": {
    "pycharm": {
     "name": "#%%\n"
    }
   },
   "outputs": [],
   "source": [
    "from sklearn.impute import KNNImputer\n",
    "from sklearn.preprocessing import StandardScaler\n",
    "import pandas as pd\n",
    "import numpy as np"
   ]
  },
  {
   "cell_type": "markdown",
   "metadata": {
    "pycharm": {
     "name": "#%% md\n"
    }
   },
   "source": [
    "### Data loading and preprocessing\n",
    "Load data from excel file, drop unused columns, replace missing values indicators (like tbd) with NaNs,\n",
    "convert column types from object to numeric if necessary."
   ]
  },
  {
   "cell_type": "code",
   "execution_count": 2,
   "metadata": {
    "pycharm": {
     "name": "#%%\n"
    }
   },
   "outputs": [],
   "source": [
    "columns_to_drop=[\"Other_Sales\", \"Critic_Count\", \"User_Count\", \"Developer\", \"Publisher\", \"Rating\"]\n",
    "numeric_columns = [\"Global_Sales\", \"User_Score\", \"Critic_Score\", \"EU_Sales\", \"NA_Sales\", \"JP_Sales\", \"Year_of_Release\"]\n",
    "\n",
    "data = pd.read_excel(\"../data/games_sales_2016_modified.xlsx\", index_col=0)\n",
    "data = data.drop(columns=columns_to_drop)\n",
    "data = data.replace({'tbd': np.NaN})\n",
    "data[\"Critic_Score\"] = pd.to_numeric(data[\"Critic_Score\"])\n",
    "data[\"User_Score\"] = pd.to_numeric(data[\"User_Score\"])"
   ]
  },
  {
   "cell_type": "markdown",
   "metadata": {},
   "source": [
    "### Basic statistics before missing values handling\n",
    "Get basic statistics about the dataset before handling missing values:\n",
    " * total number of rows\n",
    " * number of missing values in each column\n",
    " * values like mean, max, min"
   ]
  },
  {
   "cell_type": "code",
   "execution_count": 3,
   "metadata": {
    "pycharm": {
     "name": "#%%\n"
    }
   },
   "outputs": [
    {
     "name": "stdout",
     "output_type": "stream",
     "text": [
      "Number of rows: 16710\n",
      "\n",
      "Number of NaNs in each column: \n",
      "Name                  2\n",
      "Platform              0\n",
      "Year_of_Release      74\n",
      "Genre                 2\n",
      "NA_Sales              0\n",
      "EU_Sales              0\n",
      "JP_Sales              0\n",
      "Global_Sales          0\n",
      "Critic_Score       8544\n",
      "User_Score         9085\n",
      "dtype: int64\n",
      "\n",
      "Detailed stats: \n",
      "        Global_Sales  User_Score  Critic_Score   EU_Sales   NA_Sales  \\\n",
      "max        82.530000    9.700000     99.000000  28.960000  41.360000   \n",
      "min         0.010000    0.000000     13.000000   0.000000   0.000000   \n",
      "std         1.548316    1.501310     13.951209   0.503408   0.813713   \n",
      "mean        0.533778    7.129456     69.022410   0.145100   0.263459   \n",
      "median      0.170000    7.500000     71.000000   0.020000   0.080000   \n",
      "\n",
      "         JP_Sales  Year_of_Release  \n",
      "max     10.220000      2016.000000  \n",
      "min      0.000000      1977.000000  \n",
      "std      0.308895         5.912285  \n",
      "mean     0.077609      2006.463092  \n",
      "median   0.000000      2007.000000  \n"
     ]
    }
   ],
   "source": [
    "print(\"Number of rows: {}\".format(data.shape[0]))\n",
    "print(\"\\nNumber of NaNs in each column: \\n{}\".format(data.isna().sum()))\n",
    "\n",
    "stats_to_compute = [\"max\", \"min\", \"std\", \"mean\", \"median\"]\n",
    "columns_stats = data.agg({item: stats_to_compute for item in numeric_columns})\n",
    "print(\"\\nDetailed stats: \\n{}\".format(columns_stats))"
   ]
  },
  {
   "cell_type": "markdown",
   "metadata": {
    "pycharm": {
     "name": "#%% md\n"
    }
   },
   "source": [
    "### Handling missing values\n",
    "There are no missing values in EU_Sales, JP_Sales, NA_Sales and Global_Sales columns.\n",
    "Some columns should be filled manually, while others can be generated (for example some\n",
    "critic and user scores)."
   ]
  },
  {
   "cell_type": "markdown",
   "metadata": {},
   "source": [
    "Manual missing and strange values handling:\n",
    " * over 100 records with `Year_of_Release` have been filled (there are still 74 left, which will be discarded)\n",
    " * records with strange names like **Luminous Arc 2 (JP sales)** have been removed (at least 8)\n",
    " * **Brothers in Arms: Furious 4** record has been removed because this game has been cancelled\n",
    " * **Imagine: Makeup Artist** had `Year_of_Release` set to 2020 - changed to proper 2009\n",
    " * missing `Critic_Score` and `User_Score` for important games (like **Super Mario**) filled manually, using GameSpot data\n",
    " * missing values in `Published` column for important games filled manually, but this column has been discarded"
   ]
  },
  {
   "cell_type": "markdown",
   "metadata": {
    "pycharm": {
     "name": "#%% md\n"
    }
   },
   "source": [
    "Remove entries without release date or without name"
   ]
  },
  {
   "cell_type": "code",
   "execution_count": 4,
   "metadata": {
    "pycharm": {
     "name": "#%% capture\n"
    }
   },
   "outputs": [],
   "source": [
    "data = data.drop(data[data[\"Year_of_Release\"].isna()].index)\n",
    "data = data.drop(data[data[\"Name\"].isna()].index)"
   ]
  },
  {
   "cell_type": "markdown",
   "metadata": {
    "pycharm": {
     "name": "#%% md\n"
    }
   },
   "source": [
    "Remove games without Critic or User Score with global sales below 0.2m:\n",
    " * this is done because for small global sales there is a lot of missing data\n",
    " * filling it would probably have a negative impact on further analysis results"
   ]
  },
  {
   "cell_type": "code",
   "execution_count": 5,
   "metadata": {
    "pycharm": {
     "name": "#%%\n"
    }
   },
   "outputs": [],
   "source": [
    "data = data.drop(data[\n",
    "    (data[\"Critic_Score\"].isna() | data[\"User_Score\"].isna()) &\n",
    "    (data[\"Global_Sales\"] < 0.2)\n",
    "].index)"
   ]
  },
  {
   "cell_type": "markdown",
   "metadata": {
    "pycharm": {
     "name": "#%% md\n"
    }
   },
   "source": [
    "Standardize data before proceeding further into missing values generation"
   ]
  },
  {
   "cell_type": "code",
   "execution_count": 6,
   "metadata": {
    "pycharm": {
     "name": "#%%\n"
    }
   },
   "outputs": [
    {
     "name": "stdout",
     "output_type": "stream",
     "text": [
      "                                            Name Platform  Year_of_Release  \\\n",
      "5140                                  Wii Sports      Wii        -0.000599   \n",
      "16561                          Super Mario Bros.      NES        -3.460187   \n",
      "5899                              Mario Kart Wii      Wii         0.328886   \n",
      "5100                           Wii Sports Resort      Wii         0.493628   \n",
      "15741                   Pokemon Red/Pokemon Blue       GB        -1.648022   \n",
      "...                                          ...      ...              ...   \n",
      "7553   Greg Hastings' Tournament Paintball Max'd      PS2        -0.000599   \n",
      "7569                                     Deus Ex       PC        -0.989053   \n",
      "7601                   Monster Rancher Advance 2      GBA        -0.659568   \n",
      "7605                               Karnaaj Rally      GBA        -0.494826   \n",
      "7606                 Wade Hixton's Counter Punch      GBA        -0.330084   \n",
      "\n",
      "              Genre   NA_Sales   EU_Sales   JP_Sales  Global_Sales  \\\n",
      "5140         Sports  40.849980  46.150419   9.490114     42.915381   \n",
      "16561      Platform  28.602095   5.387929  17.368980     20.706625   \n",
      "5899         Racing  15.237139  20.131808   9.541949     18.227898   \n",
      "5100         Sports  15.167322  17.192669   8.220165     16.783725   \n",
      "15741  Role-Playing  10.838672  13.916251  26.206787     16.048510   \n",
      "...             ...        ...        ...        ...           ...   \n",
      "7553        Shooter  -0.391880  -0.361863  -0.280716     -0.420315   \n",
      "7569   Role-Playing  -0.401854  -0.345802  -0.280716     -0.420315   \n",
      "7601     Simulation  -0.391880  -0.361863  -0.280716     -0.420315   \n",
      "7605         Racing  -0.391880  -0.361863  -0.280716     -0.420315   \n",
      "7606         Sports  -0.391880  -0.361863  -0.280716     -0.420315   \n",
      "\n",
      "       Critic_Score  User_Score  \n",
      "5140       0.431393    0.572201  \n",
      "16561      0.936989    1.186780  \n",
      "5899       0.864761    0.777061  \n",
      "5100       0.720305    0.572201  \n",
      "15741      1.298130    1.118494  \n",
      "...             ...         ...  \n",
      "7553      -0.001976    1.391640  \n",
      "7569       1.442586    1.459926  \n",
      "7601       0.648077    1.528213  \n",
      "7605       0.792533    1.596499  \n",
      "7606       0.575849    1.596499  \n",
      "\n",
      "[10452 rows x 10 columns]\n"
     ]
    }
   ],
   "source": [
    "standardization = StandardScaler().fit(data[numeric_columns])\n",
    "data[numeric_columns] = standardization.transform(data[numeric_columns])\n",
    "print(data)"
   ]
  },
  {
   "cell_type": "markdown",
   "source": [
    "Generate missing User Score and Critic Score values (using KNN method)"
   ],
   "metadata": {
    "collapsed": false
   }
  },
  {
   "cell_type": "code",
   "execution_count": 7,
   "outputs": [
    {
     "name": "stdout",
     "output_type": "stream",
     "text": [
      "\n",
      "Number of NaNs in each column: \n",
      "Name                  0\n",
      "Platform              0\n",
      "Year_of_Release       0\n",
      "Genre                 0\n",
      "NA_Sales              0\n",
      "EU_Sales              0\n",
      "JP_Sales              0\n",
      "Global_Sales          0\n",
      "Critic_Score       3105\n",
      "User_Score         3125\n",
      "dtype: int64\n"
     ]
    }
   ],
   "source": [
    "print(\"\\nNumber of NaNs in each column: \\n{}\".format(data.isna().sum()))\n",
    "data = data.reset_index(drop=True)\n",
    "data[numeric_columns] = pd.DataFrame(KNNImputer(n_neighbors=10).fit_transform(data[numeric_columns]), columns=numeric_columns)"
   ],
   "metadata": {
    "collapsed": false,
    "pycharm": {
     "name": "#%% capture\n"
    }
   }
  },
  {
   "cell_type": "markdown",
   "source": [
    "Reverse standardization and display statistics after handling missing values"
   ],
   "metadata": {
    "collapsed": false
   }
  },
  {
   "cell_type": "code",
   "execution_count": 8,
   "outputs": [
    {
     "name": "stdout",
     "output_type": "stream",
     "text": [
      "Number of rows: 10452\n",
      "\n",
      "Number of NaNs in each column: \n",
      "Name               0\n",
      "Platform           0\n",
      "Year_of_Release    0\n",
      "Genre              0\n",
      "NA_Sales           0\n",
      "EU_Sales           0\n",
      "JP_Sales           0\n",
      "Global_Sales       0\n",
      "Critic_Score       0\n",
      "User_Score         0\n",
      "dtype: int64\n",
      "\n",
      "Detailed stats: \n",
      "        Global_Sales  User_Score  Critic_Score   EU_Sales   NA_Sales  \\\n",
      "max        82.530000    9.600000     99.000000  28.960000  41.360000   \n",
      "min         0.010000    0.000000     13.000000   0.000000   0.000000   \n",
      "std         1.904295    1.302307     12.435271   0.622661   1.002670   \n",
      "mean        0.810365    7.270369     70.916772   0.225307   0.402908   \n",
      "median      0.360000    7.500000     72.400000   0.070000   0.170000   \n",
      "\n",
      "         JP_Sales  Year_of_Release  \n",
      "max     10.220000      2016.000000  \n",
      "min      0.000000      1977.000000  \n",
      "std      0.385861         6.070377  \n",
      "mean     0.108312      2006.003636  \n",
      "median   0.000000      2007.000000  \n"
     ]
    }
   ],
   "source": [
    "# reverse standardization\n",
    "data[numeric_columns] = standardization.inverse_transform(data[numeric_columns])\n",
    "\n",
    "# compute and display statistics\n",
    "print(\"Number of rows: {}\".format(data.shape[0]))\n",
    "print(\"\\nNumber of NaNs in each column: \\n{}\".format(data.isna().sum()))\n",
    "columns_stats = data.agg({item: stats_to_compute for item in numeric_columns})\n",
    "print(\"\\nDetailed stats: \\n{}\".format(columns_stats))"
   ],
   "metadata": {
    "collapsed": false,
    "pycharm": {
     "name": "#%%\n"
    }
   }
  },
  {
   "cell_type": "markdown",
   "source": [
    "Save modified dataset to file"
   ],
   "metadata": {
    "collapsed": false
   }
  },
  {
   "cell_type": "code",
   "execution_count": 9,
   "outputs": [],
   "source": [
    "data.to_excel(\"../data/games_sales_2016_preprocessed.xlsx\")\n"
   ],
   "metadata": {
    "collapsed": false,
    "pycharm": {
     "name": "#%%\n"
    }
   }
  }
 ],
 "metadata": {
  "kernelspec": {
   "name": "pycharm-268fb1dd",
   "language": "python",
   "display_name": "PyCharm (scripts)"
  },
  "language_info": {
   "codemirror_mode": {
    "name": "ipython",
    "version": 3
   },
   "file_extension": ".py",
   "mimetype": "text/x-python",
   "name": "python",
   "nbconvert_exporter": "python",
   "pygments_lexer": "ipython3",
   "version": "3.8.5"
  }
 },
 "nbformat": 4,
 "nbformat_minor": 1
}